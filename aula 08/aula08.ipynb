{
 "cells": [
  {
   "cell_type": "code",
   "execution_count": 2,
   "metadata": {},
   "outputs": [],
   "source": [
    "from sklearn.decomposition import PCA, KernelPCA\n",
    "from sklearn.preprocessing import StandardScaler\n",
    "import pandas as pd\n",
    "from sklearn.model_selection import train_test_split\n",
    "from sklearn.preprocessing import StandardScaler\n",
    "from sklearn.pipeline import Pipeline\n",
    "from sklearn.svm import SVR\n",
    "from sklearn.metrics import mean_squared_error, accuracy_score\n",
    "from sklearn.decomposition import PCA\n",
    "from sklearn.ensemble import RandomForestClassifier"
   ]
  },
  {
   "cell_type": "markdown",
   "metadata": {},
   "source": [
    "# 1) PCA\n",
    "Para esse exercício, usaremos novamente dados das eleições municipais de 2000:\n",
    "\n",
    "## a) Criando uma pipeline\n",
    "Com os dados, implemente uma pipeline de classificação que use PCA para reduzir o número de features nos dados. Seu objetivo será predizer qual partido governa dado município. Calcule alguma métrica de validação.\n",
    "\n",
    "## b) Testando diferentes pipelines\n",
    "Partindo da pipeline anterior, crie diferentes pipelines alterando o número de dimensões no PCA para 2, 3, 4 e 5. Rode essas pipelines e compare seus resultados."
   ]
  },
  {
   "cell_type": "code",
   "execution_count": 3,
   "metadata": {},
   "outputs": [],
   "source": [
    "link = 'https://raw.githubusercontent.com/FLS-6497/datasets/main/aula7/eleicoes2000.csv'\n",
    "dados = pd.read_csv(link, sep=';', decimal=\",\").drop(['cod_mun_ibge', 'nome_municipio'], axis=1)"
   ]
  },
  {
   "cell_type": "code",
   "execution_count": 4,
   "metadata": {},
   "outputs": [
    {
     "name": "stdout",
     "output_type": "stream",
     "text": [
      "Grupos do PCA:  2\n",
      "Acurácia:  0.5316034597471723\n",
      "Grupos do PCA:  3\n",
      "Acurácia:  0.5495675316034597\n",
      "Grupos do PCA:  4\n",
      "Acurácia:  0.5402528276779773\n",
      "Grupos do PCA:  5\n",
      "Acurácia:  0.5602129075182968\n",
      "Grupos do PCA:  6\n",
      "Acurácia:  0.5555555555555556\n"
     ]
    }
   ],
   "source": [
    "Y = dados['partido']\n",
    "X = dados.select_dtypes(['number'])\n",
    "\n",
    "X_treino, X_teste, Y_treino, Y_teste = train_test_split(X, Y, test_size=0.3, random_state=37)\n",
    "\n",
    "for n in range(2,7):\n",
    "# Cria uma pipeline\n",
    "    pipe = Pipeline([('pca', PCA(n)), ('rf', RandomForestClassifier())])\n",
    "\n",
    "# Treina a pipeline\n",
    "    pipe.fit(X_treino, Y_treino)\n",
    "    print(\"Grupos do PCA: \",n)\n",
    "    print(\"Acurácia: \", accuracy_score(Y_teste, pipe.predict(X_teste)))"
   ]
  },
  {
   "cell_type": "markdown",
   "metadata": {},
   "source": [
    "## c) Alternativas\n",
    "Checando a documentação do seu framework, implemente alguma alternativa ao PCA (exemplo: kernel PCA)."
   ]
  },
  {
   "cell_type": "code",
   "execution_count": 5,
   "metadata": {},
   "outputs": [
    {
     "name": "stdout",
     "output_type": "stream",
     "text": [
      "Grupos do PCA:  2\n",
      "Acurácia:  0.5375914836992681\n",
      "Grupos do PCA:  3\n",
      "Acurácia:  0.5548902195608783\n",
      "Grupos do PCA:  4\n",
      "Acurácia:  0.5349301397205589\n",
      "Grupos do PCA:  5\n",
      "Acurácia:  0.564870259481038\n",
      "Grupos do PCA:  6\n",
      "Acurácia:  0.5635395874916833\n"
     ]
    }
   ],
   "source": [
    "Y = dados['partido']\n",
    "X = dados.select_dtypes(['number'])\n",
    "\n",
    "X_treino, X_teste, Y_treino, Y_teste = train_test_split(X, Y, test_size=0.3, random_state=37)\n",
    "\n",
    "for n in range(2,7):\n",
    "# Cria uma pipeline\n",
    "    pipe = Pipeline([('pca', KernelPCA(n_components= n)), ('rf', RandomForestClassifier())])\n",
    "\n",
    "# Treina a pipeline\n",
    "    pipe.fit(X_treino, Y_treino)\n",
    "    print(\"Grupos do PCA: \",n)\n",
    "    print(\"Acurácia: \", accuracy_score(Y_teste, pipe.predict(X_teste)))"
   ]
  },
  {
   "cell_type": "markdown",
   "metadata": {},
   "source": [
    "# 2) Clustering\n",
    "Para esse exercício, usaremos uma nova base de dados com gastos reportados dos gabinetes de deputados e deputadas federais até agora, em 2022, separados por tipo de gasto:"
   ]
  },
  {
   "cell_type": "code",
   "execution_count": 6,
   "metadata": {},
   "outputs": [],
   "source": [
    "link = 'https://raw.githubusercontent.com/FLS-6497/datasets/main/aula8/gabinetes22.csv'\n",
    "dados = pd.read_csv(link, sep=';', decimal=\",\")\n",
    "X = dados.select_dtypes(['number'])"
   ]
  },
  {
   "cell_type": "markdown",
   "metadata": {},
   "source": [
    "## a) K-means\n",
    "Use K-means para separar os e as parlamentares em 4 grupos. Adicione essa classificação na base de dados original e a explore para tentar compreender quais são esses grupos."
   ]
  },
  {
   "cell_type": "code",
   "execution_count": 7,
   "metadata": {},
   "outputs": [],
   "source": [
    "from sklearn.cluster import AgglomerativeClustering\n",
    "from sklearn.cluster import DBSCAN\n",
    "import seaborn as sns\n",
    "from sklearn.cluster import KMeans\n",
    "import matplotlib.pyplot as plt"
   ]
  },
  {
   "cell_type": "code",
   "execution_count": 8,
   "metadata": {},
   "outputs": [],
   "source": [
    "# Kmeans\n",
    "kmeans = KMeans(n_clusters=4, random_state=0, init='k-means++')\n",
    "kmeans.fit(X)\n",
    "dados = dados.assign(kmeans = kmeans.labels_)"
   ]
  },
  {
   "cell_type": "markdown",
   "metadata": {},
   "source": [
    "## b) Alternativas\n",
    "Use outro algoritmo de clustering e faça uma nova classificação dos e das parlamentares. Compare com a anterior para examinar as diferenças."
   ]
  },
  {
   "cell_type": "code",
   "execution_count": 10,
   "metadata": {},
   "outputs": [],
   "source": [
    "# DBscan\n",
    "# Hierarquico\n",
    "hierarq = AgglomerativeClustering()\n",
    "hierarq.fit(X)\n",
    "dados = dados.assign(hierarq = hierarq.labels_)"
   ]
  },
  {
   "cell_type": "code",
   "execution_count": 11,
   "metadata": {},
   "outputs": [
    {
     "data": {
      "text/plain": [
       "0    471\n",
       "1     83\n",
       "Name: hierarq, dtype: int64"
      ]
     },
     "execution_count": 11,
     "metadata": {},
     "output_type": "execute_result"
    }
   ],
   "source": [
    "dados['hierarq'].value_counts()"
   ]
  }
 ],
 "metadata": {
  "kernelspec": {
   "display_name": "Python 3.8.10 ('basepy')",
   "language": "python",
   "name": "python3"
  },
  "language_info": {
   "codemirror_mode": {
    "name": "ipython",
    "version": 3
   },
   "file_extension": ".py",
   "mimetype": "text/x-python",
   "name": "python",
   "nbconvert_exporter": "python",
   "pygments_lexer": "ipython3",
   "version": "3.8.10"
  },
  "orig_nbformat": 4,
  "vscode": {
   "interpreter": {
    "hash": "d104225ec42d6f7fc0c61100559a33f2210dafe9fee0fc23dcd46c626d82e02e"
   }
  }
 },
 "nbformat": 4,
 "nbformat_minor": 2
}
