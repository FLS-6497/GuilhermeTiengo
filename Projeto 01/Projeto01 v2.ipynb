{
 "cells": [
  {
   "cell_type": "markdown",
   "metadata": {},
   "source": [
    "# Projeto 1\n",
    "Nosso primeiro projeto avaliativo, consistindo em 15% da nota final no curso, será uma aplicação de aprendizado supervisionado: classificar discursos presidenciais feitos para audiências internacionais. Ao todo, são 350 discursos proferidos por Lula, Dilma e Temer que poderão ser utilizados para teste e treino de modelos. Neste trabalho, vocês poderão aplicar o pré-processamento que julgarem mais adequado."
   ]
  },
  {
   "cell_type": "code",
   "execution_count": 1,
   "metadata": {},
   "outputs": [],
   "source": [
    "import pandas as pd\n",
    "\n",
    "from sklearn.feature_extraction.text import TfidfVectorizer\n",
    "from sklearn.naive_bayes import MultinomialNB\n",
    "from sklearn.model_selection import train_test_split\n",
    "from sklearn.ensemble import RandomForestClassifier\n",
    "from nltk.tokenize import sent_tokenize, word_tokenize\n",
    "from nltk.stem import RSLPStemmer\n",
    "from sklearn import metrics\n",
    "import matplotlib.pyplot as plt\n",
    "import re\n",
    "import unidecode\n",
    "from nltk.corpus import stopwords\n",
    "import numpy as np\n",
    "import spacy\n",
    "import re"
   ]
  },
  {
   "cell_type": "code",
   "execution_count": 2,
   "metadata": {},
   "outputs": [],
   "source": [
    "link = 'https://github.com/FLS-6497/datasets/blob/main/projeto1/discursos_pres_internacionais.csv?raw=true'\n",
    "discursos = pd.read_csv(link, sep=';')\n",
    "\n",
    "link = 'https://github.com/FLS-6497/datasets/blob/main/projeto1/discursos_pres_internacionais_validacao.csv?raw=true'\n",
    "validacao = pd.read_csv(link, sep=';')"
   ]
  },
  {
   "cell_type": "markdown",
   "metadata": {},
   "source": [
    "## Explorar dados\n"
   ]
  },
  {
   "cell_type": "code",
   "execution_count": 2,
   "metadata": {},
   "outputs": [
    {
     "ename": "NameError",
     "evalue": "name 'discursos' is not defined",
     "output_type": "error",
     "traceback": [
      "\u001b[0;31m---------------------------------------------------------------------------\u001b[0m",
      "\u001b[0;31mNameError\u001b[0m                                 Traceback (most recent call last)",
      "Cell \u001b[0;32mIn [2], line 1\u001b[0m\n\u001b[0;32m----> 1\u001b[0m discursos\u001b[39m.\u001b[39mhead()\n",
      "\u001b[0;31mNameError\u001b[0m: name 'discursos' is not defined"
     ]
    }
   ],
   "source": [
    "discursos.head()"
   ]
  },
  {
   "cell_type": "code",
   "execution_count": null,
   "metadata": {},
   "outputs": [
    {
     "data": {
      "text/plain": [
       "array(['Temer', 'Dilma', 'Lula'], dtype=object)"
      ]
     },
     "execution_count": 4,
     "metadata": {},
     "output_type": "execute_result"
    }
   ],
   "source": [
    "discursos[\"presidente\"].unique()"
   ]
  },
  {
   "cell_type": "code",
   "execution_count": null,
   "metadata": {},
   "outputs": [
    {
     "data": {
      "text/plain": [
       "Lula     145\n",
       "Dilma    131\n",
       "Temer     74\n",
       "Name: presidente, dtype: int64"
      ]
     },
     "execution_count": 5,
     "metadata": {},
     "output_type": "execute_result"
    }
   ],
   "source": [
    "discursos['presidente'].value_counts()"
   ]
  },
  {
   "cell_type": "code",
   "execution_count": null,
   "metadata": {},
   "outputs": [
    {
     "name": "stdout",
     "output_type": "stream",
     "text": [
      "['de', 'a', 'o', 'que', 'e', 'é', 'do', 'da', 'em', 'um', 'para', 'com', 'não', 'uma', 'os', 'no', 'se', 'na', 'por', 'mais', 'as', 'dos', 'como', 'mas', 'ao', 'ele', 'das', 'à', 'seu', 'sua', 'ou', 'quando', 'muito', 'nos', 'já', 'eu', 'também', 'só', 'pelo', 'pela', 'até', 'isso', 'ela', 'entre', 'depois', 'sem', 'mesmo', 'aos', 'seus', 'quem', 'nas', 'me', 'esse', 'eles', 'você', 'essa', 'num', 'nem', 'suas', 'meu', 'às', 'minha', 'numa', 'pelos', 'elas', 'qual', 'nós', 'lhe', 'deles', 'essas', 'esses', 'pelas', 'este', 'dele', 'tu', 'te', 'vocês', 'vos', 'lhes', 'meus', 'minhas', 'teu', 'tua', 'teus', 'tuas', 'nosso', 'nossa', 'nossos', 'nossas', 'dela', 'delas', 'esta', 'estes', 'estas', 'aquele', 'aquela', 'aqueles', 'aquelas', 'isto', 'aquilo', 'estou', 'está', 'estamos', 'estão', 'estive', 'esteve', 'estivemos', 'estiveram', 'estava', 'estávamos', 'estavam', 'estivera', 'estivéramos', 'esteja', 'estejamos', 'estejam', 'estivesse', 'estivéssemos', 'estivessem', 'estiver', 'estivermos', 'estiverem', 'hei', 'há', 'havemos', 'hão', 'houve', 'houvemos', 'houveram', 'houvera', 'houvéramos', 'haja', 'hajamos', 'hajam', 'houvesse', 'houvéssemos', 'houvessem', 'houver', 'houvermos', 'houverem', 'houverei', 'houverá', 'houveremos', 'houverão', 'houveria', 'houveríamos', 'houveriam', 'sou', 'somos', 'são', 'era', 'éramos', 'eram', 'fui', 'foi', 'fomos', 'foram', 'fora', 'fôramos', 'seja', 'sejamos', 'sejam', 'fosse', 'fôssemos', 'fossem', 'for', 'formos', 'forem', 'serei', 'será', 'seremos', 'serão', 'seria', 'seríamos', 'seriam', 'tenho', 'tem', 'temos', 'tém', 'tinha', 'tínhamos', 'tinham', 'tive', 'teve', 'tivemos', 'tiveram', 'tivera', 'tivéramos', 'tenha', 'tenhamos', 'tenham', 'tivesse', 'tivéssemos', 'tivessem', 'tiver', 'tivermos', 'tiverem', 'terei', 'terá', 'teremos', 'terão', 'teria', 'teríamos', 'teriam']\n"
     ]
    }
   ],
   "source": [
    "stopwords_pt =  stopwords.words('portuguese')\n",
    "print(stopwords_pt)"
   ]
  },
  {
   "cell_type": "code",
   "execution_count": 8,
   "metadata": {},
   "outputs": [],
   "source": [
    "nlp = spacy.load(\"pt_core_news_lg\")"
   ]
  },
  {
   "cell_type": "code",
   "execution_count": 14,
   "metadata": {},
   "outputs": [
    {
     "name": "stdout",
     "output_type": "stream",
     "text": [
      "pato\n",
      "passar\n",
      "passar\n",
      "passar\n",
      "amei\n",
      "amo\n"
     ]
    }
   ],
   "source": [
    "doc = nlp(\"patos passa passei passou amei amo\")\n",
    "for t in doc:\n",
    "    print(t.lemma_)"
   ]
  },
  {
   "cell_type": "markdown",
   "metadata": {},
   "source": [
    "## Processamento\n"
   ]
  },
  {
   "cell_type": "code",
   "execution_count": 8,
   "metadata": {},
   "outputs": [],
   "source": [
    "def Processamento1(texto):\n",
    "    doc = nlp(texto)\n",
    "    tokens = [t.lemma_ for t in doc if len(t) > 4]\n",
    "    tokens = [t for t in tokens if t not in stopwords_pt]\n",
    "    tokens = [t.lower() for t in tokens]\n",
    "    tokens = [unidecode.unidecode(t) for t in tokens]\n",
    "    return \" \".join(tokens)\n",
    "\n",
    "def Processamento2(texto):\n",
    "    tokens = word_tokenize(texto,language=\"portuguese\")\n",
    "    tokens = [t for t in tokens if len(t) > 4]\n",
    "    tokens = [t for t in tokens if t not in stopwords_pt]\n",
    "    tokens = [t.lower() for t in tokens]\n",
    "    tokens = [unidecode.unidecode(t) for t in tokens]\n",
    "    return \" \".join(tokens)\n",
    "\n",
    "def Processamento3(texto):\n",
    "    tokens = word_tokenize(texto,language=\"portuguese\")\n",
    "    tokens = [t for t in tokens if len(t) > 4]\n",
    "    tokens = [t for t in tokens if t not in stopwords_pt]\n",
    "    \n",
    "    tokens = [t.lower() for t in tokens]\n",
    "    tokens = [unidecode.unidecode(t) for t in tokens]\n",
    "    stem = RSLPStemmer()\n",
    "    token_stem = [stem.stem(t) for t in tokens]\n",
    "    return \" \".join(token_stem)\n",
    "\n"
   ]
  },
  {
   "cell_type": "code",
   "execution_count": 9,
   "metadata": {},
   "outputs": [],
   "source": [
    "p_discursos1 = [Processamento1(discurso) for discurso in discursos['discurso']]\n",
    "p_discursos2 = [Processamento2(discurso) for discurso in discursos['discurso']]\n",
    "p_discursos3 = [Processamento3(discurso) for discurso in discursos['discurso']]\n"
   ]
  },
  {
   "cell_type": "code",
   "execution_count": 10,
   "metadata": {},
   "outputs": [],
   "source": [
    "discursos['discurso1'] = p_discursos1\n",
    "discursos['discurso2'] = p_discursos2\n",
    "discursos['discurso3'] = p_discursos3\n"
   ]
  },
  {
   "cell_type": "code",
   "execution_count": 11,
   "metadata": {},
   "outputs": [
    {
     "data": {
      "text/html": [
       "<div>\n",
       "<style scoped>\n",
       "    .dataframe tbody tr th:only-of-type {\n",
       "        vertical-align: middle;\n",
       "    }\n",
       "\n",
       "    .dataframe tbody tr th {\n",
       "        vertical-align: top;\n",
       "    }\n",
       "\n",
       "    .dataframe thead th {\n",
       "        text-align: right;\n",
       "    }\n",
       "</style>\n",
       "<table border=\"1\" class=\"dataframe\">\n",
       "  <thead>\n",
       "    <tr style=\"text-align: right;\">\n",
       "      <th></th>\n",
       "      <th>data</th>\n",
       "      <th>presidente</th>\n",
       "      <th>discurso</th>\n",
       "      <th>discurso1</th>\n",
       "      <th>discurso2</th>\n",
       "      <th>discurso3</th>\n",
       "    </tr>\n",
       "  </thead>\n",
       "  <tbody>\n",
       "    <tr>\n",
       "      <th>0</th>\n",
       "      <td>2018-11-30</td>\n",
       "      <td>Temer</td>\n",
       "      <td>\\nHá uma década, desencadeava-se crise econômi...</td>\n",
       "      <td>decada desencadeava-se crise economico ter efe...</td>\n",
       "      <td>decada desencadeava-se crise economica efeitos...</td>\n",
       "      <td>dec desencadeava-s cris econom efeit sistem ne...</td>\n",
       "    </tr>\n",
       "    <tr>\n",
       "      <th>1</th>\n",
       "      <td>2018-11-30</td>\n",
       "      <td>Temer</td>\n",
       "      <td>\\nAntes de mais nada, cumprimento o Presidente...</td>\n",
       "      <td>antes cumprimento presidente macri governo arg...</td>\n",
       "      <td>antes cumprimento presidente macri governo arg...</td>\n",
       "      <td>ant cumpr presid macr govern argentin impeca o...</td>\n",
       "    </tr>\n",
       "    <tr>\n",
       "      <th>2</th>\n",
       "      <td>2018-11-30</td>\n",
       "      <td>Temer</td>\n",
       "      <td>\\nDiscurso do presidente Michel Temer\\nSenhor ...</td>\n",
       "      <td>discurso presidente michel temer senhor presid...</td>\n",
       "      <td>discurso presidente michel temer senhor presid...</td>\n",
       "      <td>discurs presid michel tem senh presid senh sen...</td>\n",
       "    </tr>\n",
       "    <tr>\n",
       "      <th>3</th>\n",
       "      <td>2018-09-25</td>\n",
       "      <td>Temer</td>\n",
       "      <td>\\nSenhora Presidente desta Assembleia Geral, M...</td>\n",
       "      <td>senhora presidente de este assembleia geral ma...</td>\n",
       "      <td>senhora presidente desta assembleia geral mari...</td>\n",
       "      <td>senh presid dest assemble geral mar fernand es...</td>\n",
       "    </tr>\n",
       "    <tr>\n",
       "      <th>4</th>\n",
       "      <td>2018-06-18</td>\n",
       "      <td>Temer</td>\n",
       "      <td>\\nPrezados amigos,\\nPresidentes, vice-presiden...</td>\n",
       "      <td>prezado amigo presidente vice-presidente horac...</td>\n",
       "      <td>prezados amigos presidentes vice-presidentes h...</td>\n",
       "      <td>prez amig presid vice-presid horaci cart tab v...</td>\n",
       "    </tr>\n",
       "  </tbody>\n",
       "</table>\n",
       "</div>"
      ],
      "text/plain": [
       "         data presidente                                           discurso  \\\n",
       "0  2018-11-30      Temer  \\nHá uma década, desencadeava-se crise econômi...   \n",
       "1  2018-11-30      Temer  \\nAntes de mais nada, cumprimento o Presidente...   \n",
       "2  2018-11-30      Temer  \\nDiscurso do presidente Michel Temer\\nSenhor ...   \n",
       "3  2018-09-25      Temer  \\nSenhora Presidente desta Assembleia Geral, M...   \n",
       "4  2018-06-18      Temer  \\nPrezados amigos,\\nPresidentes, vice-presiden...   \n",
       "\n",
       "                                           discurso1  \\\n",
       "0  decada desencadeava-se crise economico ter efe...   \n",
       "1  antes cumprimento presidente macri governo arg...   \n",
       "2  discurso presidente michel temer senhor presid...   \n",
       "3  senhora presidente de este assembleia geral ma...   \n",
       "4  prezado amigo presidente vice-presidente horac...   \n",
       "\n",
       "                                           discurso2  \\\n",
       "0  decada desencadeava-se crise economica efeitos...   \n",
       "1  antes cumprimento presidente macri governo arg...   \n",
       "2  discurso presidente michel temer senhor presid...   \n",
       "3  senhora presidente desta assembleia geral mari...   \n",
       "4  prezados amigos presidentes vice-presidentes h...   \n",
       "\n",
       "                                           discurso3  \n",
       "0  dec desencadeava-s cris econom efeit sistem ne...  \n",
       "1  ant cumpr presid macr govern argentin impeca o...  \n",
       "2  discurs presid michel tem senh presid senh sen...  \n",
       "3  senh presid dest assemble geral mar fernand es...  \n",
       "4  prez amig presid vice-presid horaci cart tab v...  "
      ]
     },
     "execution_count": 11,
     "metadata": {},
     "output_type": "execute_result"
    }
   ],
   "source": [
    "discursos.head()"
   ]
  },
  {
   "cell_type": "markdown",
   "metadata": {},
   "source": [
    "## Modelos"
   ]
  },
  {
   "cell_type": "code",
   "execution_count": 12,
   "metadata": {},
   "outputs": [],
   "source": [
    "def Contagemtdf(base,coluna_X, coluna_Y):\n",
    "    Base_discursos = base\n",
    "    X_train, X_test, Y_train, Y_test = train_test_split(Base_discursos[coluna_X], Base_discursos[coluna_Y], test_size=0.7)\n",
    "    tfid_1 = TfidfVectorizer(analyzer='word',min_df=0.1)\n",
    "    X_train_corpus = tfid_1.fit_transform(X_train) \n",
    "    X_test_corpus = tfid_1.transform(X_test)    \n",
    "    return X_train_corpus, X_test_corpus, Y_train, Y_test, tfid_1\n",
    "\n",
    "def ModeloNB(X_train_corpus, X_test_corpus, Y_train, Y_test): \n",
    "\n",
    "    nb_classifier = MultinomialNB()   \n",
    "    nb_classifier.fit(X_train_corpus, Y_train)    \n",
    "    pred = nb_classifier.predict(X_test_corpus)\n",
    "    score = metrics.precision_score(Y_test,pred,average='micro')\n",
    "    cm = metrics.confusion_matrix(Y_test,pred,labels=Y_test.unique())\n",
    "    \n",
    "    return score,cm, Y_test, pred, nb_classifier\n",
    "\n",
    "def ModeloRF(X_train_corpus, X_test_corpus, Y_train, Y_test):\n",
    "    rf_classifier = RandomForestClassifier()   \n",
    "    rf_classifier.fit(X_train_corpus, Y_train)    \n",
    "    pred = rf_classifier.predict(X_test_corpus)\n",
    "    score = metrics.precision_score(Y_test,pred,average='micro')\n",
    "    cm = metrics.confusion_matrix(Y_test,pred,labels=Y_test.unique())\n",
    "    \n",
    "    return score,cm, Y_test, pred, rf_classifier"
   ]
  },
  {
   "cell_type": "markdown",
   "metadata": {},
   "source": [
    "## Escolha do modelo\n"
   ]
  },
  {
   "cell_type": "code",
   "execution_count": 13,
   "metadata": {},
   "outputs": [],
   "source": [
    "#Escolha de modelos e processamento\n",
    "\n",
    "score_pre1_NB = []\n",
    "score_pre2_NB = []\n",
    "score_pre3_NB = []\n",
    "score_pre1_RF = []\n",
    "score_pre2_RF = []\n",
    "score_pre3_RF = []\n",
    "\n",
    "\n",
    "for n in range(1,101):\n",
    "    X_train_corpus, X_test_corpus, Y_train, Y_test,tfid1 = Contagemtdf(discursos,\"discurso1\",\"presidente\")\n",
    "    \n",
    "    score,cm, Y_test, pred, nb_classifier = ModeloNB(X_train_corpus, X_test_corpus, Y_train, Y_test)\n",
    "    score_pre1_NB.append(score)\n",
    "\n",
    "    score,cm, Y_test, pred, nb_classifier = ModeloRF(X_train_corpus, X_test_corpus, Y_train, Y_test)\n",
    "    score_pre1_RF.append(score)\n",
    "\n",
    "    X_train_corpus, X_test_corpus, Y_train, Y_test,tfid1 = Contagemtdf(discursos,\"discurso2\",\"presidente\")\n",
    "    \n",
    "    score,cm, Y_test, pred, nb_classifier = ModeloNB(X_train_corpus, X_test_corpus, Y_train, Y_test)\n",
    "    score_pre2_NB.append(score)\n",
    "\n",
    "    score,cm, Y_test, pred, nb_classifier = ModeloRF(X_train_corpus, X_test_corpus, Y_train, Y_test)\n",
    "    score_pre2_RF.append(score)\n",
    "\n",
    "    X_train_corpus, X_test_corpus, Y_train, Y_test,tfid1 = Contagemtdf(discursos,\"discurso3\",\"presidente\")\n",
    "    \n",
    "    score,cm, Y_test, pred, nb_classifier = ModeloNB(X_train_corpus, X_test_corpus, Y_train, Y_test)\n",
    "    score_pre3_NB.append(score)\n",
    "\n",
    "    score,cm, Y_test, pred, nb_classifier = ModeloRF(X_train_corpus, X_test_corpus, Y_train, Y_test)\n",
    "    score_pre3_RF.append(score)\n",
    "\n",
    "\n"
   ]
  },
  {
   "cell_type": "code",
   "execution_count": 26,
   "metadata": {},
   "outputs": [],
   "source": [
    "resultados = pd.DataFrame([score_pre1_NB,score_pre2_NB,score_pre3_NB,score_pre1_RF,score_pre2_RF,score_pre3_RF]).T\n",
    "resultados.rename({0:'NB - Lemmatização',1:'NB - Básico',2:'NB - Stem',3:'RF - Lemmatização',4:'RF - Básico',5:'RF - Stem'},axis=1, inplace= True)"
   ]
  },
  {
   "cell_type": "code",
   "execution_count": 27,
   "metadata": {},
   "outputs": [
    {
     "data": {
      "image/png": "[encoded data removed]",
      "text/plain": [
       "<Figure size 1600x800 with 6 Axes>"
      ]
     },
     "metadata": {},
     "output_type": "display_data"
    }
   ],
   "source": [
    "import seaborn as sns\n",
    "import matplotlib.pyplot as plt\n",
    "sns.set_style(\"darkgrid\")\n",
    "fig, ax = plt.subplots(1,6,sharey=True,figsize=(16,8))\n",
    "fig.suptitle(\"Precision dos modelos\")\n",
    "for i in range(0,6):\n",
    "    temp = resultados.iloc[:,i]\n",
    "    nome = resultados.columns[i]\n",
    "    sns.boxplot(ax=ax[i],y=temp)\n",
    "    ax[i].set_title(nome)\n",
    "    ax[i].set(ylabel=\"Precision\")\n",
    "\n"
   ]
  },
  {
   "cell_type": "markdown",
   "metadata": {},
   "source": [
    "### Comentário"
   ]
  },
  {
   "cell_type": "code",
   "execution_count": 16,
   "metadata": {},
   "outputs": [],
   "source": [
    "def ModeloNB_a(X_train_corpus, X_test_corpus, Y_train, Y_test, alpha): \n",
    "\n",
    "    nb_classifier = MultinomialNB(alpha=alpha)   \n",
    "    nb_classifier.fit(X_train_corpus, Y_train)    \n",
    "    pred = nb_classifier.predict(X_test_corpus)\n",
    "    score = metrics.precision_score(Y_test,pred,average='micro')\n",
    "    cm = metrics.confusion_matrix(Y_test,pred,labels=Y_test.unique())\n",
    "    \n",
    "    return score,cm, Y_test, pred, nb_classifier"
   ]
  },
  {
   "cell_type": "code",
   "execution_count": 42,
   "metadata": {},
   "outputs": [],
   "source": [
    "recall_lista = []  \n",
    "alphas = np.arange(0.1,1.1,0.1)  \n",
    "for x in alphas:\n",
    "    scores_lista = []\n",
    "    for i in range(0,30): \n",
    "        X_train_corpus, X_test_corpus, Y_train, Y_test, tfid1 = Contagemtdf(discursos,\"discurso2\",\"presidente\")\n",
    "        score,cm, Y_test, pred, nb_classifier = ModeloNB_a(X_train_corpus, X_test_corpus, Y_train, Y_test, x)\n",
    "        scores_lista.append(score)\n",
    "    \n",
    "    recall_lista.append(scores_lista)"
   ]
  },
  {
   "cell_type": "code",
   "execution_count": 49,
   "metadata": {},
   "outputs": [
    {
     "data": {
      "image/png": "[encoded data removed]",
      "text/plain": [
       "<Figure size 1600x500 with 10 Axes>"
      ]
     },
     "metadata": {},
     "output_type": "display_data"
    }
   ],
   "source": [
    "sns.set_style(\"darkgrid\")\n",
    "fig, ax = plt.subplots(1,10,sharey=True,figsize=(16,5))\n",
    "fig.suptitle(\"Precision dos modelos\")\n",
    "for i in range(0,10):\n",
    "    temp = recall_lista[i]\n",
    "    nome = np.round(alphas[i],1)\n",
    "    sns.boxplot(ax=ax[i],y=temp)\n",
    "    ax[i].set_title(nome)\n",
    "    ax[i].set(ylabel=\"Precision\")\n",
    "\n",
    "# g = sns.boxplot(y=recall_lista,x=np.round(alphas,1))\n",
    "#g.set(title=\"Precision por alpha\")"
   ]
  },
  {
   "cell_type": "markdown",
   "metadata": {},
   "source": [
    "### Comentário\n"
   ]
  },
  {
   "cell_type": "code",
   "execution_count": 50,
   "metadata": {},
   "outputs": [],
   "source": [
    "X_train_corpus, X_test_corpus, Y_train, Y_test, tfid1 = Contagemtdf(discursos,\"discurso2\",\"presidente\")\n",
    "score_nb, cm_nb, Y_test_nb, pred_nb, nb_classifier = ModeloNB_a(X_train_corpus, X_test_corpus, Y_train, Y_test, 0.2)\n",
    "score_rf, cm_rf, Y_test_rf, pred_rf, rf_classifier = ModeloRF(X_train_corpus, X_test_corpus, Y_train, Y_test)"
   ]
  },
  {
   "cell_type": "code",
   "execution_count": 51,
   "metadata": {},
   "outputs": [
    {
     "name": "stdout",
     "output_type": "stream",
     "text": [
      "Checagem de dataframe Y:  True\n",
      "Recall Score:  0.9061224489795918  (nb)  0.9387755102040817  (rf) \n"
     ]
    }
   ],
   "source": [
    "print(\"Checagem de dataframe Y: \",  Y_test_nb.equals(Y_test_rf))\n",
    "print(\"Recall Score: \", score_nb, \" (nb) \", score_rf, \" (rf) \")"
   ]
  },
  {
   "cell_type": "code",
   "execution_count": 21,
   "metadata": {},
   "outputs": [
    {
     "data": {
      "text/plain": [
       "0.8612244897959184"
      ]
     },
     "execution_count": 21,
     "metadata": {},
     "output_type": "execute_result"
    }
   ],
   "source": [
    "temp_df = pd.DataFrame([pred_nb,pred_rf]).T\n",
    "temp_df.rename({0:\"NB\",1:\"RF\"},axis=1,inplace=True)\n",
    "temp_df['Concordam'] = temp_df['NB'] == temp_df['RF']\n",
    "sum(temp_df['Concordam'])/245"
   ]
  },
  {
   "cell_type": "code",
   "execution_count": 23,
   "metadata": {},
   "outputs": [
    {
     "data": {
      "text/plain": [
       "0.88"
      ]
     },
     "execution_count": 23,
     "metadata": {},
     "output_type": "execute_result"
    }
   ],
   "source": [
    "pred_nb_v = nb_classifier.predict(v_matrix)\n",
    "pred_rf_v = rf_classifier.predict(v_matrix)\n",
    "pred_valida = pd.DataFrame([pred_nb_v,pred_rf_v]).T\n",
    "pred_valida.rename({0:\"NB\",1:\"RF\"},axis=1,inplace=True)\n",
    "pred_valida['Concordam'] = pred_valida['NB'] == pred_valida['RF']\n",
    "pred_valida = pd.concat([validacao,pred_valida],axis=1)\n",
    "sum(pred_valida['Concordam'])/25"
   ]
  },
  {
   "cell_type": "code",
   "execution_count": 24,
   "metadata": {},
   "outputs": [
    {
     "data": {
      "text/html": [
       "<div>\n",
       "<style scoped>\n",
       "    .dataframe tbody tr th:only-of-type {\n",
       "        vertical-align: middle;\n",
       "    }\n",
       "\n",
       "    .dataframe tbody tr th {\n",
       "        vertical-align: top;\n",
       "    }\n",
       "\n",
       "    .dataframe thead th {\n",
       "        text-align: right;\n",
       "    }\n",
       "</style>\n",
       "<table border=\"1\" class=\"dataframe\">\n",
       "  <thead>\n",
       "    <tr style=\"text-align: right;\">\n",
       "      <th></th>\n",
       "      <th>discurso</th>\n",
       "      <th>id</th>\n",
       "      <th>v_discurso2</th>\n",
       "      <th>NB</th>\n",
       "      <th>RF</th>\n",
       "      <th>Concordam</th>\n",
       "    </tr>\n",
       "  </thead>\n",
       "  <tbody>\n",
       "    <tr>\n",
       "      <th>0</th>\n",
       "      <td>\\nExcelentíssimo senhor Shinzo Abe, primeiro-m...</td>\n",
       "      <td>137</td>\n",
       "      <td>excelentissimo senhor shinzo primeiro-ministro...</td>\n",
       "      <td>Dilma</td>\n",
       "      <td>Dilma</td>\n",
       "      <td>True</td>\n",
       "    </tr>\n",
       "    <tr>\n",
       "      <th>1</th>\n",
       "      <td>\\nFoto: Roberto Stuckert Filho/PR \\n \\nSenhor ...</td>\n",
       "      <td>90</td>\n",
       "      <td>roberto stuckert filho/pr senhor laurent fabiu...</td>\n",
       "      <td>Dilma</td>\n",
       "      <td>Dilma</td>\n",
       "      <td>True</td>\n",
       "    </tr>\n",
       "    <tr>\n",
       "      <th>2</th>\n",
       "      <td>\\nExcelentíssimo senhor Paul Biya, presidente ...</td>\n",
       "      <td>229</td>\n",
       "      <td>excelentissimo senhor presidente cameroun senh...</td>\n",
       "      <td>Dilma</td>\n",
       "      <td>Lula</td>\n",
       "      <td>False</td>\n",
       "    </tr>\n",
       "    <tr>\n",
       "      <th>3</th>\n",
       "      <td>\\nEu quero cumprimentar, em primeiro lugar, a ...</td>\n",
       "      <td>7</td>\n",
       "      <td>quero cumprimentar primeiro lugar senhora mari...</td>\n",
       "      <td>Temer</td>\n",
       "      <td>Temer</td>\n",
       "      <td>True</td>\n",
       "    </tr>\n",
       "    <tr>\n",
       "      <th>4</th>\n",
       "      <td>\\nQuero dirigir um cumprimento especial à Zole...</td>\n",
       "      <td>91</td>\n",
       "      <td>quero dirigir cumprimento especial zoleka mand...</td>\n",
       "      <td>Dilma</td>\n",
       "      <td>Dilma</td>\n",
       "      <td>True</td>\n",
       "    </tr>\n",
       "  </tbody>\n",
       "</table>\n",
       "</div>"
      ],
      "text/plain": [
       "                                            discurso   id  \\\n",
       "0  \\nExcelentíssimo senhor Shinzo Abe, primeiro-m...  137   \n",
       "1  \\nFoto: Roberto Stuckert Filho/PR \\n \\nSenhor ...   90   \n",
       "2  \\nExcelentíssimo senhor Paul Biya, presidente ...  229   \n",
       "3  \\nEu quero cumprimentar, em primeiro lugar, a ...    7   \n",
       "4  \\nQuero dirigir um cumprimento especial à Zole...   91   \n",
       "\n",
       "                                         v_discurso2     NB     RF  Concordam  \n",
       "0  excelentissimo senhor shinzo primeiro-ministro...  Dilma  Dilma       True  \n",
       "1  roberto stuckert filho/pr senhor laurent fabiu...  Dilma  Dilma       True  \n",
       "2  excelentissimo senhor presidente cameroun senh...  Dilma   Lula      False  \n",
       "3  quero cumprimentar primeiro lugar senhora mari...  Temer  Temer       True  \n",
       "4  quero dirigir cumprimento especial zoleka mand...  Dilma  Dilma       True  "
      ]
     },
     "execution_count": 24,
     "metadata": {},
     "output_type": "execute_result"
    }
   ],
   "source": [
    "pred_valida.head()"
   ]
  },
  {
   "cell_type": "code",
   "execution_count": null,
   "metadata": {},
   "outputs": [],
   "source": [
    "pred_valida.to_excel(\"Validação_v2.xlsx\")"
   ]
  }
 ],
 "metadata": {
  "kernelspec": {
   "display_name": "Python 3.8.10 ('basepy')",
   "language": "python",
   "name": "python3"
  },
  "language_info": {
   "codemirror_mode": {
    "name": "ipython",
    "version": 3
   },
   "file_extension": ".py",
   "mimetype": "text/x-python",
   "name": "python",
   "nbconvert_exporter": "python",
   "pygments_lexer": "ipython3",
   "version": "3.8.10"
  },
  "orig_nbformat": 4,
  "vscode": {
   "interpreter": {
    "hash": "2eb00c3b99515e73a2f87fbbd4229836e43f7521b301a1b867788ab771a420b9"
   }
  }
 },
 "nbformat": 4,
 "nbformat_minor": 2
}
