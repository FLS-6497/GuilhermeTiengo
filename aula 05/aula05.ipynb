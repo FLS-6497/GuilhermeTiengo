{
 "cells": [
  {
   "cell_type": "markdown",
   "metadata": {},
   "source": [
    "# Aula 05\n"
   ]
  },
  {
   "cell_type": "code",
   "execution_count": 1,
   "metadata": {},
   "outputs": [],
   "source": [
    "import pandas as pd\n",
    "from sklearn.feature_extraction.text import CountVectorizer\n",
    "from sklearn.feature_extraction.text import TfidfVectorizer\n",
    "from sklearn.naive_bayes import MultinomialNB\n",
    "from sklearn.model_selection import train_test_split\n",
    "from sklearn.preprocessing import MinMaxScaler\n",
    "from nltk.tokenize import sent_tokenize, word_tokenize\n",
    "from nltk.stem import RSLPStemmer\n",
    "from sklearn import metrics\n",
    "import matplotlib.pyplot as plt\n",
    "import re\n",
    "#Algoritmo de stem para português com descrição disponível em: https://ieeexplore.ieee.org/document/989755"
   ]
  },
  {
   "cell_type": "code",
   "execution_count": 2,
   "metadata": {},
   "outputs": [],
   "source": [
    "link = 'https://github.com/FLS-6497/datasets/raw/main/aula5/discursos_presidenciais.csv'\n",
    "discursos = pd.read_csv(link, sep=';')"
   ]
  },
  {
   "cell_type": "markdown",
   "metadata": {},
   "source": [
    "## a) Pré-processamento\n",
    "Usando ferramentas de processamento de texto, implemente uma pequena pipeline para limpar dados e, quando estiver satisfeito com ela, crie uma função que aplique ela em uma nova lista textos.\n",
    "# b) Modelo\n",
    "Usando os frameworks de aprendizado de máquina, use a bag of words criada anteriormente para treinar algum modelo de classificação para predizer o nome do ou da presidente que proferiu cada discurso na amostra de teste."
   ]
  },
  {
   "cell_type": "code",
   "execution_count": 3,
   "metadata": {},
   "outputs": [
    {
     "data": {
      "text/html": [
       "<div>\n",
       "<style scoped>\n",
       "    .dataframe tbody tr th:only-of-type {\n",
       "        vertical-align: middle;\n",
       "    }\n",
       "\n",
       "    .dataframe tbody tr th {\n",
       "        vertical-align: top;\n",
       "    }\n",
       "\n",
       "    .dataframe thead th {\n",
       "        text-align: right;\n",
       "    }\n",
       "</style>\n",
       "<table border=\"1\" class=\"dataframe\">\n",
       "  <thead>\n",
       "    <tr style=\"text-align: right;\">\n",
       "      <th></th>\n",
       "      <th>data</th>\n",
       "      <th>presidente</th>\n",
       "      <th>discurso</th>\n",
       "      <th>planalto</th>\n",
       "    </tr>\n",
       "  </thead>\n",
       "  <tbody>\n",
       "    <tr>\n",
       "      <th>0</th>\n",
       "      <td>2012-12-16</td>\n",
       "      <td>Dilma</td>\n",
       "      <td>Boa noite, povo de Fortaleza e povo do Ceará.\\...</td>\n",
       "      <td>Outros locais</td>\n",
       "    </tr>\n",
       "    <tr>\n",
       "      <th>1</th>\n",
       "      <td>2015-10-09</td>\n",
       "      <td>Dilma</td>\n",
       "      <td>(Falha no áudio)... Luis Filipe de Carvalho Mo...</td>\n",
       "      <td>Outros locais</td>\n",
       "    </tr>\n",
       "    <tr>\n",
       "      <th>2</th>\n",
       "      <td>2013-06-14</td>\n",
       "      <td>Dilma</td>\n",
       "      <td>Boa tarde, queridos trabalhadores, queridas tr...</td>\n",
       "      <td>Outros locais</td>\n",
       "    </tr>\n",
       "    <tr>\n",
       "      <th>3</th>\n",
       "      <td>2011-03-22</td>\n",
       "      <td>Dilma</td>\n",
       "      <td>Vocês viram o Omar ficando vermelho? Pois ele ...</td>\n",
       "      <td>Outros locais</td>\n",
       "    </tr>\n",
       "    <tr>\n",
       "      <th>4</th>\n",
       "      <td>2015-12-22</td>\n",
       "      <td>Dilma</td>\n",
       "      <td>Eu queria começar cumprimentando aqui os traba...</td>\n",
       "      <td>Outros locais</td>\n",
       "    </tr>\n",
       "  </tbody>\n",
       "</table>\n",
       "</div>"
      ],
      "text/plain": [
       "         data presidente                                           discurso  \\\n",
       "0  2012-12-16      Dilma  Boa noite, povo de Fortaleza e povo do Ceará.\\...   \n",
       "1  2015-10-09      Dilma  (Falha no áudio)... Luis Filipe de Carvalho Mo...   \n",
       "2  2013-06-14      Dilma  Boa tarde, queridos trabalhadores, queridas tr...   \n",
       "3  2011-03-22      Dilma  Vocês viram o Omar ficando vermelho? Pois ele ...   \n",
       "4  2015-12-22      Dilma  Eu queria começar cumprimentando aqui os traba...   \n",
       "\n",
       "        planalto  \n",
       "0  Outros locais  \n",
       "1  Outros locais  \n",
       "2  Outros locais  \n",
       "3  Outros locais  \n",
       "4  Outros locais  "
      ]
     },
     "execution_count": 3,
     "metadata": {},
     "output_type": "execute_result"
    }
   ],
   "source": [
    "Base_discursos = discursos\n",
    "Base_discursos.head()"
   ]
  },
  {
   "cell_type": "code",
   "execution_count": 4,
   "metadata": {},
   "outputs": [],
   "source": [
    "def token_stem(texto):\n",
    "    tokens = word_tokenize(texto,language=\"portuguese\")\n",
    "    tokens = [t for t in tokens if len(t) > 4]\n",
    "    #tokens = [re.sub(r'[^\\w\\s]','',t) for t in tokens]\n",
    "    #    minusculo = [t.lower() for t in tokens]\n",
    "    stem = RSLPStemmer()\n",
    "    token_stem = [stem.stem(t) for t in tokens]\n",
    "\n",
    "\n",
    "    return token_stem\n",
    "\n",
    "def Contagemtdf(base,coluna_Y = \"presidente\"):\n",
    "    Base_discursos = base\n",
    "    coluna_X = \"discurso\"   \n",
    "    X_train, X_test, Y_train, Y_test = train_test_split(Base_discursos[coluna_X], Base_discursos[coluna_Y], test_size=0.7)\n",
    "    tfid_1 = TfidfVectorizer(tokenizer=token_stem)\n",
    "    X_train_corpus = tfid_1.fit_transform(X_train) \n",
    "    X_test_corpus = tfid_1.transform(X_test)    \n",
    "    return X_train_corpus, X_test_corpus, Y_train, Y_test\n",
    "\n",
    "def RodarModelo(X_train_corpus, X_test_corpus, Y_train, Y_test): \n",
    "\n",
    "    nb_classifier = MultinomialNB()   \n",
    "    nb_classifier.fit(X_train_corpus, Y_train)    \n",
    "    pred = nb_classifier.predict(X_test_corpus)\n",
    "    score = metrics.accuracy_score(Y_test,pred)\n",
    "    cm = metrics.confusion_matrix(Y_test,pred,labels=Y_test.unique())\n",
    "    \n",
    "    return score,cm, Y_test, pred, nb_classifier"
   ]
  },
  {
   "cell_type": "code",
   "execution_count": 5,
   "metadata": {},
   "outputs": [],
   "source": [
    "#teste do modelo\n",
    "X_train_corpus, X_test_corpus, Y_train, Y_test = Contagemtdf(Base_discursos)\n"
   ]
  },
  {
   "cell_type": "code",
   "execution_count": 6,
   "metadata": {},
   "outputs": [
    {
     "name": "stdout",
     "output_type": "stream",
     "text": [
      "0.9428571428571428 \n",
      " [[201   6]\n",
      " [ 18 195]]\n"
     ]
    }
   ],
   "source": [
    "score, cm, Y_test, pred, nb_classifier = RodarModelo(X_train_corpus, X_test_corpus, Y_train, Y_test)\n",
    "print(score,\"\\n\", cm)"
   ]
  },
  {
   "cell_type": "markdown",
   "metadata": {},
   "source": [
    "## c) Validação\n",
    "Roda o item pedido em b) 100 vezes e salve os resultados de alguma métrica de validação.\n",
    "\n"
   ]
  },
  {
   "cell_type": "code",
   "execution_count": 7,
   "metadata": {},
   "outputs": [
    {
     "data": {
      "image/png": "[encoded data removed]",
      "text/plain": [
       "<Figure size 640x480 with 1 Axes>"
      ]
     },
     "metadata": {},
     "output_type": "display_data"
    }
   ],
   "source": [
    "lista_score = []\n",
    "tentativas = range(1,101)\n",
    "\n",
    "for i in tentativas:\n",
    "    X_train_corpus, X_test_corpus, Y_train, Y_test = Contagemtdf(Base_discursos)\n",
    "    score, cm, Y_test, pred, nb_classifier = RodarModelo(X_train_corpus, X_test_corpus, Y_train, Y_test)\n",
    "    lista_score.append(score)\n",
    "\n",
    "plt.hist(lista_score)\n",
    "plt.title(\"Distribuição de Accuracy Score - Presidente\")\n",
    "plt.show()\n"
   ]
  },
  {
   "cell_type": "markdown",
   "metadata": {},
   "source": [
    "## c) Validação II\n",
    "Repita o exercício c), dessa vez usando a variável planalto, que indica se um discurso foi proferido no Palácio do Planalto, como target."
   ]
  },
  {
   "cell_type": "code",
   "execution_count": 8,
   "metadata": {},
   "outputs": [
    {
     "data": {
      "image/png": "[encoded data removed]",
      "text/plain": [
       "<Figure size 640x480 with 1 Axes>"
      ]
     },
     "metadata": {},
     "output_type": "display_data"
    }
   ],
   "source": [
    "lista_score = []\n",
    "tentativas = range(1,101)\n",
    "\n",
    "for i in tentativas:\n",
    "    X_train_corpus, X_test_corpus, Y_train, Y_test = Contagemtdf(Base_discursos, coluna_Y = \"planalto\")\n",
    "    score, cm, Y_test, pred, nb_classifier = RodarModelo(X_train_corpus, X_test_corpus, Y_train, Y_test)\n",
    "    lista_score.append(score)\n",
    "\n",
    "plt.hist(lista_score)\n",
    "plt.title(\"Distribuição de Accuracy Score - Planalto\")\n",
    "plt.show()\n"
   ]
  },
  {
   "cell_type": "markdown",
   "metadata": {},
   "source": [
    "## 2) Evitando data leaks\n",
    "Como vimos, pré-processamento deve ser aplicado antes de fazermos split sample de validação (i.e., criar amostras de teste e de treino). Agora, implemente um workflow que leva isso em conta. Para tanto, você deverá criar uma função que separe textos em treino e teste, que aplique pré-processamento apenas na amostra de treino e que, depois, replique ele na amostra de teste para, então, rodar um algoritmo e calcular alguma métrica de validação.\n",
    "\n",
    "Realizado"
   ]
  },
  {
   "cell_type": "markdown",
   "metadata": {},
   "source": [
    "## 3) Benchmark\n",
    "Usando as ferramentas que vimos, experimente com os seguintes pré-processamentos:\n",
    "\n",
    "* Usando apenas palavras maiores do que 4 caracteres;\n",
    "* Removendo palavras que não ocorrem em, pelo menos, 10 documentos;\n",
    "* Removendo palavras que não ocorrem em, pelo menos, 10% dos documentos;\n",
    "* Usando TF-IDF para normalizar os elementos da matriz bag of words;"
   ]
  },
  {
   "cell_type": "code",
   "execution_count": 9,
   "metadata": {},
   "outputs": [],
   "source": [
    "def token_stem(texto):\n",
    "    tokens = word_tokenize(texto,language=\"portuguese\")\n",
    "    tokens = [t for t in tokens if len(t) > 4]\n",
    "    #tokens = [re.sub(r'[^\\w\\s]','',t) for t in tokens]\n",
    "    #    minusculo = [t.lower() for t in tokens]\n",
    "    stem = RSLPStemmer()\n",
    "    token_stem = [stem.stem(t) for t in tokens]\n",
    "\n",
    "\n",
    "    return token_stem\n",
    "\n",
    "def Contagemtdf(base,coluna_Y = \"presidente\"):\n",
    "    Base_discursos = base\n",
    "    coluna_X = \"discurso\"   \n",
    "    X_train, X_test, Y_train, Y_test = train_test_split(Base_discursos[coluna_X], Base_discursos[coluna_Y], test_size=0.7)\n",
    "    tfid_1 = TfidfVectorizer(tokenizer=token_stem, min_df=0.1)\n",
    "    X_train_corpus = tfid_1.fit_transform(X_train) \n",
    "    X_test_corpus = tfid_1.transform(X_test)    \n",
    "    return X_train_corpus, X_test_corpus, Y_train, Y_test\n",
    "\n",
    "def RodarModelo(X_train_corpus, X_test_corpus, Y_train, Y_test): \n",
    "\n",
    "    nb_classifier = MultinomialNB()   \n",
    "    nb_classifier.fit(X_train_corpus, Y_train)    \n",
    "    pred = nb_classifier.predict(X_test_corpus)\n",
    "    score = metrics.accuracy_score(Y_test,pred)\n",
    "    cm = metrics.confusion_matrix(Y_test,pred,labels=Y_test.unique())\n",
    "    \n",
    "    return score,cm, Y_test, pred, nb_classifier"
   ]
  },
  {
   "cell_type": "code",
   "execution_count": 10,
   "metadata": {},
   "outputs": [
    {
     "data": {
      "image/png": "[encoded data removed]",
      "text/plain": [
       "<Figure size 640x480 with 1 Axes>"
      ]
     },
     "metadata": {},
     "output_type": "display_data"
    }
   ],
   "source": [
    "lista_score = []\n",
    "tentativas = range(1,101)\n",
    "\n",
    "for i in tentativas:\n",
    "    X_train_corpus, X_test_corpus, Y_train, Y_test = Contagemtdf(Base_discursos)\n",
    "    score, cm, Y_test, pred, nb_classifier = RodarModelo(X_train_corpus, X_test_corpus, Y_train, Y_test)\n",
    "    lista_score.append(score)\n",
    "\n",
    "plt.hist(lista_score)\n",
    "plt.title(\"Distribuição de Accuracy Score - Presidente - Mínimo de 10%\")\n",
    "plt.show()\n"
   ]
  }
 ],
 "metadata": {
  "kernelspec": {
   "display_name": "Python 3.8.10 ('basepy')",
   "language": "python",
   "name": "python3"
  },
  "language_info": {
   "codemirror_mode": {
    "name": "ipython",
    "version": 3
   },
   "file_extension": ".py",
   "mimetype": "text/x-python",
   "name": "python",
   "nbconvert_exporter": "python",
   "pygments_lexer": "ipython3",
   "version": "3.8.10"
  },
  "orig_nbformat": 4,
  "vscode": {
   "interpreter": {
    "hash": "2eb00c3b99515e73a2f87fbbd4229836e43f7521b301a1b867788ab771a420b9"
   }
  }
 },
 "nbformat": 4,
 "nbformat_minor": 2
}
