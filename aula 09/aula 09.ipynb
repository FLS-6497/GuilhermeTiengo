{
 "cells": [
  {
   "cell_type": "markdown",
   "metadata": {},
   "source": [
    "# 1) Cross-validation\n",
    "Para esse exercício, usaremos uma base de dados das candidaturas à Câmara dos Deputados em 2014 que contém, entre outros, variáveis como o sexo, a raça, a escolaridade e o status de reeleição das candidaturas, bem como uma dummy (resultado) que indica se a candidatura foi () ou não () eleita (Machado, Campos, e Recch 2020)."
   ]
  },
  {
   "cell_type": "code",
   "execution_count": 17,
   "metadata": {},
   "outputs": [],
   "source": [
    "from sklearn.model_selection import KFold\n",
    "from sklearn.preprocessing import OneHotEncoder\n",
    "from sklearn.model_selection import cross_validate\n",
    "from sklearn.metrics import mean_squared_error\n",
    "from sklearn.ensemble import RandomForestClassifier\n",
    "from sklearn.pipeline import Pipeline\n",
    "from sklearn.model_selection import LeaveOneOut\n",
    "import pandas as pd"
   ]
  },
  {
   "cell_type": "code",
   "execution_count": 2,
   "metadata": {},
   "outputs": [],
   "source": [
    "link = 'https://raw.githubusercontent.com/FLS-6497/datasets/main/aula9/camara_2014.csv'\n",
    "dados = pd.read_csv(link, sep=';', decimal=\",\")"
   ]
  },
  {
   "cell_type": "code",
   "execution_count": 29,
   "metadata": {},
   "outputs": [
    {
     "data": {
      "text/html": [
       "<div>\n",
       "<style scoped>\n",
       "    .dataframe tbody tr th:only-of-type {\n",
       "        vertical-align: middle;\n",
       "    }\n",
       "\n",
       "    .dataframe tbody tr th {\n",
       "        vertical-align: top;\n",
       "    }\n",
       "\n",
       "    .dataframe thead th {\n",
       "        text-align: right;\n",
       "    }\n",
       "</style>\n",
       "<table border=\"1\" class=\"dataframe\">\n",
       "  <thead>\n",
       "    <tr style=\"text-align: right;\">\n",
       "      <th></th>\n",
       "      <th>Dummy_cor</th>\n",
       "      <th>Dummy_sexo</th>\n",
       "      <th>Dummy_EnsSuperior</th>\n",
       "      <th>Dummy_Classe</th>\n",
       "      <th>receita_proc_ln</th>\n",
       "      <th>reeleicao</th>\n",
       "      <th>resultado</th>\n",
       "    </tr>\n",
       "  </thead>\n",
       "  <tbody>\n",
       "    <tr>\n",
       "      <th>0</th>\n",
       "      <td>Não-branca</td>\n",
       "      <td>Feminino</td>\n",
       "      <td>Ensino Superior</td>\n",
       "      <td>Classe alta e muito alta</td>\n",
       "      <td>-6.077371</td>\n",
       "      <td>Não</td>\n",
       "      <td>0</td>\n",
       "    </tr>\n",
       "    <tr>\n",
       "      <th>1</th>\n",
       "      <td>Não-branca</td>\n",
       "      <td>Masculino</td>\n",
       "      <td>Ensino Superior</td>\n",
       "      <td>Classe alta e muito alta</td>\n",
       "      <td>-9.672297</td>\n",
       "      <td>Não</td>\n",
       "      <td>0</td>\n",
       "    </tr>\n",
       "    <tr>\n",
       "      <th>2</th>\n",
       "      <td>Não-branca</td>\n",
       "      <td>Masculino</td>\n",
       "      <td>Ensino Superior</td>\n",
       "      <td>Sem classe alta ou muito alta</td>\n",
       "      <td>-7.529553</td>\n",
       "      <td>Não</td>\n",
       "      <td>0</td>\n",
       "    </tr>\n",
       "    <tr>\n",
       "      <th>3</th>\n",
       "      <td>Não-branca</td>\n",
       "      <td>Masculino</td>\n",
       "      <td>Sem ensino superior</td>\n",
       "      <td>Sem classe alta ou muito alta</td>\n",
       "      <td>-4.233959</td>\n",
       "      <td>Não</td>\n",
       "      <td>0</td>\n",
       "    </tr>\n",
       "    <tr>\n",
       "      <th>4</th>\n",
       "      <td>Não-branca</td>\n",
       "      <td>Masculino</td>\n",
       "      <td>Sem ensino superior</td>\n",
       "      <td>Classe alta e muito alta</td>\n",
       "      <td>-5.265190</td>\n",
       "      <td>Não</td>\n",
       "      <td>0</td>\n",
       "    </tr>\n",
       "  </tbody>\n",
       "</table>\n",
       "</div>"
      ],
      "text/plain": [
       "    Dummy_cor Dummy_sexo    Dummy_EnsSuperior                   Dummy_Classe  \\\n",
       "0  Não-branca   Feminino      Ensino Superior       Classe alta e muito alta   \n",
       "1  Não-branca  Masculino      Ensino Superior       Classe alta e muito alta   \n",
       "2  Não-branca  Masculino      Ensino Superior  Sem classe alta ou muito alta   \n",
       "3  Não-branca  Masculino  Sem ensino superior  Sem classe alta ou muito alta   \n",
       "4  Não-branca  Masculino  Sem ensino superior       Classe alta e muito alta   \n",
       "\n",
       "   receita_proc_ln reeleicao  resultado  \n",
       "0        -6.077371       Não          0  \n",
       "1        -9.672297       Não          0  \n",
       "2        -7.529553       Não          0  \n",
       "3        -4.233959       Não          0  \n",
       "4        -5.265190       Não          0  "
      ]
     },
     "execution_count": 29,
     "metadata": {},
     "output_type": "execute_result"
    }
   ],
   "source": [
    "dados.head()"
   ]
  },
  {
   "cell_type": "markdown",
   "metadata": {},
   "source": [
    "## a) Básico\n",
    "Crie uma pipeline para estandardizar variáveis numéricas (ou transformar variáveis categóricas em dummies) com algum modelo de classificação da sua escolha e o valide usando K-fold com  e, depois, com ."
   ]
  },
  {
   "cell_type": "code",
   "execution_count": 30,
   "metadata": {},
   "outputs": [
    {
     "name": "stdout",
     "output_type": "stream",
     "text": [
      "[Pipeline] ................ (step 1 of 1) Processing rf, total=   4.9s\n",
      "[Pipeline] ................ (step 1 of 1) Processing rf, total=   4.9s\n",
      "[Pipeline] ................ (step 1 of 1) Processing rf, total=   4.5s\n",
      "[Pipeline] ................ (step 1 of 1) Processing rf, total=   4.6s\n",
      "[Pipeline] ................ (step 1 of 1) Processing rf, total=   4.7s\n"
     ]
    },
    {
     "data": {
      "text/plain": [
       "{'fit_time': array([4.87593055, 4.92631245, 4.50900817, 4.63016486, 4.72762823]),\n",
       " 'score_time': array([0.11117411, 0.10915995, 0.10720372, 0.10758352, 0.12677026]),\n",
       " 'test_score': array([0.53125   , 0.59459459, 0.6035503 , 0.61538462, 0.62608696])}"
      ]
     },
     "execution_count": 30,
     "metadata": {},
     "output_type": "execute_result"
    }
   ],
   "source": [
    "Y = dados['resultado']\n",
    "X = dados.drop(\"resultado\",axis=1)\n",
    "\n",
    "X = OneHotEncoder().fit_transform(X)\n",
    "kf = KFold(n_splits=5)\n",
    "rf = RandomForestClassifier()\n",
    "\n",
    "pipe = Pipeline([('rf',RandomForestClassifier())], verbose=1)\n",
    "\n",
    "cross_validate(pipe, X, Y, cv=kf, scoring='f1')"
   ]
  },
  {
   "cell_type": "code",
   "execution_count": 31,
   "metadata": {},
   "outputs": [
    {
     "name": "stdout",
     "output_type": "stream",
     "text": [
      "[Pipeline] ................ (step 1 of 1) Processing rf, total=   4.7s\n",
      "[Pipeline] ................ (step 1 of 1) Processing rf, total=   5.2s\n",
      "[Pipeline] ................ (step 1 of 1) Processing rf, total=   5.2s\n",
      "[Pipeline] ................ (step 1 of 1) Processing rf, total=   4.9s\n",
      "[Pipeline] ................ (step 1 of 1) Processing rf, total=   4.9s\n",
      "[Pipeline] ................ (step 1 of 1) Processing rf, total=   4.9s\n",
      "[Pipeline] ................ (step 1 of 1) Processing rf, total=   5.0s\n",
      "[Pipeline] ................ (step 1 of 1) Processing rf, total=   5.5s\n",
      "[Pipeline] ................ (step 1 of 1) Processing rf, total=   5.5s\n",
      "[Pipeline] ................ (step 1 of 1) Processing rf, total=   5.5s\n"
     ]
    },
    {
     "data": {
      "text/plain": [
       "{'fit_time': array([4.72954202, 5.24031186, 5.22566342, 4.94270205, 4.94395494,\n",
       "        4.85344696, 4.99816108, 5.54076219, 5.4823885 , 5.47694445]),\n",
       " 'score_time': array([0.06901479, 0.0723002 , 0.07423949, 0.0701201 , 0.06948781,\n",
       "        0.07148623, 0.07190609, 0.08171535, 0.07868242, 0.08688188]),\n",
       " 'test_score': array([0.5       , 0.56097561, 0.63414634, 0.57971014, 0.56140351,\n",
       "        0.625     , 0.61538462, 0.65      , 0.60714286, 0.59649123])}"
      ]
     },
     "execution_count": 31,
     "metadata": {},
     "output_type": "execute_result"
    }
   ],
   "source": [
    "Y = dados['resultado']\n",
    "X = dados.drop(\"resultado\",axis=1)\n",
    "\n",
    "X = OneHotEncoder().fit_transform(X)\n",
    "kf = KFold(n_splits=10)\n",
    "rf = RandomForestClassifier()\n",
    "\n",
    "pipe = Pipeline([('rf',RandomForestClassifier())], verbose=1)\n",
    "\n",
    "cross_validate(pipe, X, Y, cv=kf, scoring='f1')"
   ]
  },
  {
   "cell_type": "markdown",
   "metadata": {},
   "source": [
    "# b) LOO\n",
    "Sorteie apenas algumas observações do banco completo (50, por exemplo) e, em vez de usar K-fold, desta vez use LOO como estratégia de validação (no mlr3, a função chama-se loo; no sklearn, LeaveOneOut).1"
   ]
  },
  {
   "cell_type": "code",
   "execution_count": 35,
   "metadata": {},
   "outputs": [
    {
     "name": "stdout",
     "output_type": "stream",
     "text": [
      "[Pipeline] ................ (step 1 of 1) Processing rf, total=   0.2s\n",
      "[Pipeline] ................ (step 1 of 1) Processing rf, total=   0.2s\n"
     ]
    },
    {
     "name": "stderr",
     "output_type": "stream",
     "text": [
      "/home/guilherme/basepy/lib/python3.8/site-packages/sklearn/metrics/_classification.py:1599: UndefinedMetricWarning: F-score is ill-defined and being set to 0.0 due to no true nor predicted samples. Use `zero_division` parameter to control this behavior.\n",
      "  _warn_prf(average, \"true nor predicted\", \"F-score is\", len(true_sum))\n",
      "/home/guilherme/basepy/lib/python3.8/site-packages/sklearn/metrics/_classification.py:1599: UndefinedMetricWarning: F-score is ill-defined and being set to 0.0 due to no true nor predicted samples. Use `zero_division` parameter to control this behavior.\n",
      "  _warn_prf(average, \"true nor predicted\", \"F-score is\", len(true_sum))\n"
     ]
    },
    {
     "name": "stdout",
     "output_type": "stream",
     "text": [
      "[Pipeline] ................ (step 1 of 1) Processing rf, total=   0.2s\n",
      "[Pipeline] ................ (step 1 of 1) Processing rf, total=   0.2s\n"
     ]
    },
    {
     "name": "stderr",
     "output_type": "stream",
     "text": [
      "/home/guilherme/basepy/lib/python3.8/site-packages/sklearn/metrics/_classification.py:1599: UndefinedMetricWarning: F-score is ill-defined and being set to 0.0 due to no true nor predicted samples. Use `zero_division` parameter to control this behavior.\n",
      "  _warn_prf(average, \"true nor predicted\", \"F-score is\", len(true_sum))\n",
      "/home/guilherme/basepy/lib/python3.8/site-packages/sklearn/metrics/_classification.py:1599: UndefinedMetricWarning: F-score is ill-defined and being set to 0.0 due to no true nor predicted samples. Use `zero_division` parameter to control this behavior.\n",
      "  _warn_prf(average, \"true nor predicted\", \"F-score is\", len(true_sum))\n"
     ]
    },
    {
     "name": "stdout",
     "output_type": "stream",
     "text": [
      "[Pipeline] ................ (step 1 of 1) Processing rf, total=   0.2s\n"
     ]
    },
    {
     "name": "stderr",
     "output_type": "stream",
     "text": [
      "/home/guilherme/basepy/lib/python3.8/site-packages/sklearn/metrics/_classification.py:1599: UndefinedMetricWarning: F-score is ill-defined and being set to 0.0 due to no true nor predicted samples. Use `zero_division` parameter to control this behavior.\n",
      "  _warn_prf(average, \"true nor predicted\", \"F-score is\", len(true_sum))\n"
     ]
    },
    {
     "name": "stdout",
     "output_type": "stream",
     "text": [
      "[Pipeline] ................ (step 1 of 1) Processing rf, total=   0.2s\n"
     ]
    },
    {
     "name": "stderr",
     "output_type": "stream",
     "text": [
      "/home/guilherme/basepy/lib/python3.8/site-packages/sklearn/metrics/_classification.py:1599: UndefinedMetricWarning: F-score is ill-defined and being set to 0.0 due to no true nor predicted samples. Use `zero_division` parameter to control this behavior.\n",
      "  _warn_prf(average, \"true nor predicted\", \"F-score is\", len(true_sum))\n"
     ]
    },
    {
     "name": "stdout",
     "output_type": "stream",
     "text": [
      "[Pipeline] ................ (step 1 of 1) Processing rf, total=   0.2s\n",
      "[Pipeline] ................ (step 1 of 1) Processing rf, total=   0.2s\n"
     ]
    },
    {
     "name": "stderr",
     "output_type": "stream",
     "text": [
      "/home/guilherme/basepy/lib/python3.8/site-packages/sklearn/metrics/_classification.py:1599: UndefinedMetricWarning: F-score is ill-defined and being set to 0.0 due to no true nor predicted samples. Use `zero_division` parameter to control this behavior.\n",
      "  _warn_prf(average, \"true nor predicted\", \"F-score is\", len(true_sum))\n",
      "/home/guilherme/basepy/lib/python3.8/site-packages/sklearn/metrics/_classification.py:1599: UndefinedMetricWarning: F-score is ill-defined and being set to 0.0 due to no true nor predicted samples. Use `zero_division` parameter to control this behavior.\n",
      "  _warn_prf(average, \"true nor predicted\", \"F-score is\", len(true_sum))\n"
     ]
    },
    {
     "name": "stdout",
     "output_type": "stream",
     "text": [
      "[Pipeline] ................ (step 1 of 1) Processing rf, total=   0.3s\n"
     ]
    },
    {
     "name": "stderr",
     "output_type": "stream",
     "text": [
      "/home/guilherme/basepy/lib/python3.8/site-packages/sklearn/metrics/_classification.py:1599: UndefinedMetricWarning: F-score is ill-defined and being set to 0.0 due to no true nor predicted samples. Use `zero_division` parameter to control this behavior.\n",
      "  _warn_prf(average, \"true nor predicted\", \"F-score is\", len(true_sum))\n"
     ]
    },
    {
     "name": "stdout",
     "output_type": "stream",
     "text": [
      "[Pipeline] ................ (step 1 of 1) Processing rf, total=   0.2s\n",
      "[Pipeline] ................ (step 1 of 1) Processing rf, total=   0.2s\n",
      "[Pipeline] ................ (step 1 of 1) Processing rf, total=   0.2s\n"
     ]
    },
    {
     "name": "stderr",
     "output_type": "stream",
     "text": [
      "/home/guilherme/basepy/lib/python3.8/site-packages/sklearn/metrics/_classification.py:1599: UndefinedMetricWarning: F-score is ill-defined and being set to 0.0 due to no true nor predicted samples. Use `zero_division` parameter to control this behavior.\n",
      "  _warn_prf(average, \"true nor predicted\", \"F-score is\", len(true_sum))\n",
      "/home/guilherme/basepy/lib/python3.8/site-packages/sklearn/metrics/_classification.py:1599: UndefinedMetricWarning: F-score is ill-defined and being set to 0.0 due to no true nor predicted samples. Use `zero_division` parameter to control this behavior.\n",
      "  _warn_prf(average, \"true nor predicted\", \"F-score is\", len(true_sum))\n"
     ]
    },
    {
     "name": "stdout",
     "output_type": "stream",
     "text": [
      "[Pipeline] ................ (step 1 of 1) Processing rf, total=   0.2s\n"
     ]
    },
    {
     "name": "stderr",
     "output_type": "stream",
     "text": [
      "/home/guilherme/basepy/lib/python3.8/site-packages/sklearn/metrics/_classification.py:1599: UndefinedMetricWarning: F-score is ill-defined and being set to 0.0 due to no true nor predicted samples. Use `zero_division` parameter to control this behavior.\n",
      "  _warn_prf(average, \"true nor predicted\", \"F-score is\", len(true_sum))\n"
     ]
    },
    {
     "name": "stdout",
     "output_type": "stream",
     "text": [
      "[Pipeline] ................ (step 1 of 1) Processing rf, total=   0.2s\n"
     ]
    },
    {
     "name": "stderr",
     "output_type": "stream",
     "text": [
      "/home/guilherme/basepy/lib/python3.8/site-packages/sklearn/metrics/_classification.py:1599: UndefinedMetricWarning: F-score is ill-defined and being set to 0.0 due to no true nor predicted samples. Use `zero_division` parameter to control this behavior.\n",
      "  _warn_prf(average, \"true nor predicted\", \"F-score is\", len(true_sum))\n",
      "/home/guilherme/basepy/lib/python3.8/site-packages/sklearn/metrics/_classification.py:1599: UndefinedMetricWarning: F-score is ill-defined and being set to 0.0 due to no true nor predicted samples. Use `zero_division` parameter to control this behavior.\n",
      "  _warn_prf(average, \"true nor predicted\", \"F-score is\", len(true_sum))\n"
     ]
    },
    {
     "name": "stdout",
     "output_type": "stream",
     "text": [
      "[Pipeline] ................ (step 1 of 1) Processing rf, total=   0.2s\n",
      "[Pipeline] ................ (step 1 of 1) Processing rf, total=   0.2s\n"
     ]
    },
    {
     "name": "stderr",
     "output_type": "stream",
     "text": [
      "/home/guilherme/basepy/lib/python3.8/site-packages/sklearn/metrics/_classification.py:1599: UndefinedMetricWarning: F-score is ill-defined and being set to 0.0 due to no true nor predicted samples. Use `zero_division` parameter to control this behavior.\n",
      "  _warn_prf(average, \"true nor predicted\", \"F-score is\", len(true_sum))\n"
     ]
    },
    {
     "name": "stdout",
     "output_type": "stream",
     "text": [
      "[Pipeline] ................ (step 1 of 1) Processing rf, total=   0.2s\n",
      "[Pipeline] ................ (step 1 of 1) Processing rf, total=   0.2s\n"
     ]
    },
    {
     "name": "stderr",
     "output_type": "stream",
     "text": [
      "/home/guilherme/basepy/lib/python3.8/site-packages/sklearn/metrics/_classification.py:1599: UndefinedMetricWarning: F-score is ill-defined and being set to 0.0 due to no true nor predicted samples. Use `zero_division` parameter to control this behavior.\n",
      "  _warn_prf(average, \"true nor predicted\", \"F-score is\", len(true_sum))\n",
      "/home/guilherme/basepy/lib/python3.8/site-packages/sklearn/metrics/_classification.py:1599: UndefinedMetricWarning: F-score is ill-defined and being set to 0.0 due to no true nor predicted samples. Use `zero_division` parameter to control this behavior.\n",
      "  _warn_prf(average, \"true nor predicted\", \"F-score is\", len(true_sum))\n"
     ]
    },
    {
     "name": "stdout",
     "output_type": "stream",
     "text": [
      "[Pipeline] ................ (step 1 of 1) Processing rf, total=   0.2s\n",
      "[Pipeline] ................ (step 1 of 1) Processing rf, total=   0.2s\n"
     ]
    },
    {
     "name": "stderr",
     "output_type": "stream",
     "text": [
      "/home/guilherme/basepy/lib/python3.8/site-packages/sklearn/metrics/_classification.py:1599: UndefinedMetricWarning: F-score is ill-defined and being set to 0.0 due to no true nor predicted samples. Use `zero_division` parameter to control this behavior.\n",
      "  _warn_prf(average, \"true nor predicted\", \"F-score is\", len(true_sum))\n",
      "/home/guilherme/basepy/lib/python3.8/site-packages/sklearn/metrics/_classification.py:1599: UndefinedMetricWarning: F-score is ill-defined and being set to 0.0 due to no true nor predicted samples. Use `zero_division` parameter to control this behavior.\n",
      "  _warn_prf(average, \"true nor predicted\", \"F-score is\", len(true_sum))\n"
     ]
    },
    {
     "name": "stdout",
     "output_type": "stream",
     "text": [
      "[Pipeline] ................ (step 1 of 1) Processing rf, total=   0.2s\n"
     ]
    },
    {
     "name": "stderr",
     "output_type": "stream",
     "text": [
      "/home/guilherme/basepy/lib/python3.8/site-packages/sklearn/metrics/_classification.py:1599: UndefinedMetricWarning: F-score is ill-defined and being set to 0.0 due to no true nor predicted samples. Use `zero_division` parameter to control this behavior.\n",
      "  _warn_prf(average, \"true nor predicted\", \"F-score is\", len(true_sum))\n"
     ]
    },
    {
     "name": "stdout",
     "output_type": "stream",
     "text": [
      "[Pipeline] ................ (step 1 of 1) Processing rf, total=   0.2s\n",
      "[Pipeline] ................ (step 1 of 1) Processing rf, total=   0.2s\n"
     ]
    },
    {
     "name": "stderr",
     "output_type": "stream",
     "text": [
      "/home/guilherme/basepy/lib/python3.8/site-packages/sklearn/metrics/_classification.py:1599: UndefinedMetricWarning: F-score is ill-defined and being set to 0.0 due to no true nor predicted samples. Use `zero_division` parameter to control this behavior.\n",
      "  _warn_prf(average, \"true nor predicted\", \"F-score is\", len(true_sum))\n",
      "/home/guilherme/basepy/lib/python3.8/site-packages/sklearn/metrics/_classification.py:1599: UndefinedMetricWarning: F-score is ill-defined and being set to 0.0 due to no true nor predicted samples. Use `zero_division` parameter to control this behavior.\n",
      "  _warn_prf(average, \"true nor predicted\", \"F-score is\", len(true_sum))\n"
     ]
    },
    {
     "name": "stdout",
     "output_type": "stream",
     "text": [
      "[Pipeline] ................ (step 1 of 1) Processing rf, total=   0.2s\n",
      "[Pipeline] ................ (step 1 of 1) Processing rf, total=   0.2s\n"
     ]
    },
    {
     "name": "stderr",
     "output_type": "stream",
     "text": [
      "/home/guilherme/basepy/lib/python3.8/site-packages/sklearn/metrics/_classification.py:1599: UndefinedMetricWarning: F-score is ill-defined and being set to 0.0 due to no true nor predicted samples. Use `zero_division` parameter to control this behavior.\n",
      "  _warn_prf(average, \"true nor predicted\", \"F-score is\", len(true_sum))\n",
      "/home/guilherme/basepy/lib/python3.8/site-packages/sklearn/metrics/_classification.py:1599: UndefinedMetricWarning: F-score is ill-defined and being set to 0.0 due to no true nor predicted samples. Use `zero_division` parameter to control this behavior.\n",
      "  _warn_prf(average, \"true nor predicted\", \"F-score is\", len(true_sum))\n"
     ]
    },
    {
     "name": "stdout",
     "output_type": "stream",
     "text": [
      "[Pipeline] ................ (step 1 of 1) Processing rf, total=   0.2s\n",
      "[Pipeline] ................ (step 1 of 1) Processing rf, total=   0.2s\n"
     ]
    },
    {
     "name": "stderr",
     "output_type": "stream",
     "text": [
      "/home/guilherme/basepy/lib/python3.8/site-packages/sklearn/metrics/_classification.py:1599: UndefinedMetricWarning: F-score is ill-defined and being set to 0.0 due to no true nor predicted samples. Use `zero_division` parameter to control this behavior.\n",
      "  _warn_prf(average, \"true nor predicted\", \"F-score is\", len(true_sum))\n",
      "/home/guilherme/basepy/lib/python3.8/site-packages/sklearn/metrics/_classification.py:1599: UndefinedMetricWarning: F-score is ill-defined and being set to 0.0 due to no true nor predicted samples. Use `zero_division` parameter to control this behavior.\n",
      "  _warn_prf(average, \"true nor predicted\", \"F-score is\", len(true_sum))\n"
     ]
    },
    {
     "name": "stdout",
     "output_type": "stream",
     "text": [
      "[Pipeline] ................ (step 1 of 1) Processing rf, total=   0.2s\n",
      "[Pipeline] ................ (step 1 of 1) Processing rf, total=   0.2s\n"
     ]
    },
    {
     "name": "stderr",
     "output_type": "stream",
     "text": [
      "/home/guilherme/basepy/lib/python3.8/site-packages/sklearn/metrics/_classification.py:1599: UndefinedMetricWarning: F-score is ill-defined and being set to 0.0 due to no true nor predicted samples. Use `zero_division` parameter to control this behavior.\n",
      "  _warn_prf(average, \"true nor predicted\", \"F-score is\", len(true_sum))\n"
     ]
    },
    {
     "name": "stdout",
     "output_type": "stream",
     "text": [
      "[Pipeline] ................ (step 1 of 1) Processing rf, total=   0.2s\n"
     ]
    },
    {
     "name": "stderr",
     "output_type": "stream",
     "text": [
      "/home/guilherme/basepy/lib/python3.8/site-packages/sklearn/metrics/_classification.py:1599: UndefinedMetricWarning: F-score is ill-defined and being set to 0.0 due to no true nor predicted samples. Use `zero_division` parameter to control this behavior.\n",
      "  _warn_prf(average, \"true nor predicted\", \"F-score is\", len(true_sum))\n"
     ]
    },
    {
     "name": "stdout",
     "output_type": "stream",
     "text": [
      "[Pipeline] ................ (step 1 of 1) Processing rf, total=   0.2s\n"
     ]
    },
    {
     "name": "stderr",
     "output_type": "stream",
     "text": [
      "/home/guilherme/basepy/lib/python3.8/site-packages/sklearn/metrics/_classification.py:1599: UndefinedMetricWarning: F-score is ill-defined and being set to 0.0 due to no true nor predicted samples. Use `zero_division` parameter to control this behavior.\n",
      "  _warn_prf(average, \"true nor predicted\", \"F-score is\", len(true_sum))\n"
     ]
    },
    {
     "name": "stdout",
     "output_type": "stream",
     "text": [
      "[Pipeline] ................ (step 1 of 1) Processing rf, total=   0.2s\n"
     ]
    },
    {
     "name": "stderr",
     "output_type": "stream",
     "text": [
      "/home/guilherme/basepy/lib/python3.8/site-packages/sklearn/metrics/_classification.py:1599: UndefinedMetricWarning: F-score is ill-defined and being set to 0.0 due to no true nor predicted samples. Use `zero_division` parameter to control this behavior.\n",
      "  _warn_prf(average, \"true nor predicted\", \"F-score is\", len(true_sum))\n",
      "/home/guilherme/basepy/lib/python3.8/site-packages/sklearn/metrics/_classification.py:1599: UndefinedMetricWarning: F-score is ill-defined and being set to 0.0 due to no true nor predicted samples. Use `zero_division` parameter to control this behavior.\n",
      "  _warn_prf(average, \"true nor predicted\", \"F-score is\", len(true_sum))\n"
     ]
    },
    {
     "name": "stdout",
     "output_type": "stream",
     "text": [
      "[Pipeline] ................ (step 1 of 1) Processing rf, total=   0.2s\n",
      "[Pipeline] ................ (step 1 of 1) Processing rf, total=   0.2s\n",
      "[Pipeline] ................ (step 1 of 1) Processing rf, total=   0.2s\n"
     ]
    },
    {
     "name": "stderr",
     "output_type": "stream",
     "text": [
      "/home/guilherme/basepy/lib/python3.8/site-packages/sklearn/metrics/_classification.py:1599: UndefinedMetricWarning: F-score is ill-defined and being set to 0.0 due to no true nor predicted samples. Use `zero_division` parameter to control this behavior.\n",
      "  _warn_prf(average, \"true nor predicted\", \"F-score is\", len(true_sum))\n",
      "/home/guilherme/basepy/lib/python3.8/site-packages/sklearn/metrics/_classification.py:1599: UndefinedMetricWarning: F-score is ill-defined and being set to 0.0 due to no true nor predicted samples. Use `zero_division` parameter to control this behavior.\n",
      "  _warn_prf(average, \"true nor predicted\", \"F-score is\", len(true_sum))\n"
     ]
    },
    {
     "name": "stdout",
     "output_type": "stream",
     "text": [
      "[Pipeline] ................ (step 1 of 1) Processing rf, total=   0.2s\n"
     ]
    },
    {
     "name": "stderr",
     "output_type": "stream",
     "text": [
      "/home/guilherme/basepy/lib/python3.8/site-packages/sklearn/metrics/_classification.py:1599: UndefinedMetricWarning: F-score is ill-defined and being set to 0.0 due to no true nor predicted samples. Use `zero_division` parameter to control this behavior.\n",
      "  _warn_prf(average, \"true nor predicted\", \"F-score is\", len(true_sum))\n"
     ]
    },
    {
     "name": "stdout",
     "output_type": "stream",
     "text": [
      "[Pipeline] ................ (step 1 of 1) Processing rf, total=   0.2s\n"
     ]
    },
    {
     "name": "stderr",
     "output_type": "stream",
     "text": [
      "/home/guilherme/basepy/lib/python3.8/site-packages/sklearn/metrics/_classification.py:1599: UndefinedMetricWarning: F-score is ill-defined and being set to 0.0 due to no true nor predicted samples. Use `zero_division` parameter to control this behavior.\n",
      "  _warn_prf(average, \"true nor predicted\", \"F-score is\", len(true_sum))\n"
     ]
    },
    {
     "name": "stdout",
     "output_type": "stream",
     "text": [
      "[Pipeline] ................ (step 1 of 1) Processing rf, total=   0.2s\n"
     ]
    },
    {
     "name": "stderr",
     "output_type": "stream",
     "text": [
      "/home/guilherme/basepy/lib/python3.8/site-packages/sklearn/metrics/_classification.py:1599: UndefinedMetricWarning: F-score is ill-defined and being set to 0.0 due to no true nor predicted samples. Use `zero_division` parameter to control this behavior.\n",
      "  _warn_prf(average, \"true nor predicted\", \"F-score is\", len(true_sum))\n",
      "/home/guilherme/basepy/lib/python3.8/site-packages/sklearn/metrics/_classification.py:1599: UndefinedMetricWarning: F-score is ill-defined and being set to 0.0 due to no true nor predicted samples. Use `zero_division` parameter to control this behavior.\n",
      "  _warn_prf(average, \"true nor predicted\", \"F-score is\", len(true_sum))\n"
     ]
    },
    {
     "name": "stdout",
     "output_type": "stream",
     "text": [
      "[Pipeline] ................ (step 1 of 1) Processing rf, total=   0.2s\n",
      "[Pipeline] ................ (step 1 of 1) Processing rf, total=   0.2s\n"
     ]
    },
    {
     "name": "stderr",
     "output_type": "stream",
     "text": [
      "/home/guilherme/basepy/lib/python3.8/site-packages/sklearn/metrics/_classification.py:1599: UndefinedMetricWarning: F-score is ill-defined and being set to 0.0 due to no true nor predicted samples. Use `zero_division` parameter to control this behavior.\n",
      "  _warn_prf(average, \"true nor predicted\", \"F-score is\", len(true_sum))\n",
      "/home/guilherme/basepy/lib/python3.8/site-packages/sklearn/metrics/_classification.py:1599: UndefinedMetricWarning: F-score is ill-defined and being set to 0.0 due to no true nor predicted samples. Use `zero_division` parameter to control this behavior.\n",
      "  _warn_prf(average, \"true nor predicted\", \"F-score is\", len(true_sum))\n"
     ]
    },
    {
     "name": "stdout",
     "output_type": "stream",
     "text": [
      "[Pipeline] ................ (step 1 of 1) Processing rf, total=   0.2s\n",
      "[Pipeline] ................ (step 1 of 1) Processing rf, total=   0.2s\n"
     ]
    },
    {
     "name": "stderr",
     "output_type": "stream",
     "text": [
      "/home/guilherme/basepy/lib/python3.8/site-packages/sklearn/metrics/_classification.py:1599: UndefinedMetricWarning: F-score is ill-defined and being set to 0.0 due to no true nor predicted samples. Use `zero_division` parameter to control this behavior.\n",
      "  _warn_prf(average, \"true nor predicted\", \"F-score is\", len(true_sum))\n"
     ]
    },
    {
     "name": "stdout",
     "output_type": "stream",
     "text": [
      "[Pipeline] ................ (step 1 of 1) Processing rf, total=   0.2s\n"
     ]
    },
    {
     "name": "stderr",
     "output_type": "stream",
     "text": [
      "/home/guilherme/basepy/lib/python3.8/site-packages/sklearn/metrics/_classification.py:1599: UndefinedMetricWarning: F-score is ill-defined and being set to 0.0 due to no true nor predicted samples. Use `zero_division` parameter to control this behavior.\n",
      "  _warn_prf(average, \"true nor predicted\", \"F-score is\", len(true_sum))\n"
     ]
    },
    {
     "name": "stdout",
     "output_type": "stream",
     "text": [
      "[Pipeline] ................ (step 1 of 1) Processing rf, total=   0.2s\n",
      "[Pipeline] ................ (step 1 of 1) Processing rf, total=   0.2s\n"
     ]
    },
    {
     "name": "stderr",
     "output_type": "stream",
     "text": [
      "/home/guilherme/basepy/lib/python3.8/site-packages/sklearn/metrics/_classification.py:1599: UndefinedMetricWarning: F-score is ill-defined and being set to 0.0 due to no true nor predicted samples. Use `zero_division` parameter to control this behavior.\n",
      "  _warn_prf(average, \"true nor predicted\", \"F-score is\", len(true_sum))\n",
      "/home/guilherme/basepy/lib/python3.8/site-packages/sklearn/metrics/_classification.py:1599: UndefinedMetricWarning: F-score is ill-defined and being set to 0.0 due to no true nor predicted samples. Use `zero_division` parameter to control this behavior.\n",
      "  _warn_prf(average, \"true nor predicted\", \"F-score is\", len(true_sum))\n"
     ]
    },
    {
     "name": "stdout",
     "output_type": "stream",
     "text": [
      "[Pipeline] ................ (step 1 of 1) Processing rf, total=   0.2s\n",
      "[Pipeline] ................ (step 1 of 1) Processing rf, total=   0.2s\n"
     ]
    },
    {
     "name": "stderr",
     "output_type": "stream",
     "text": [
      "/home/guilherme/basepy/lib/python3.8/site-packages/sklearn/metrics/_classification.py:1599: UndefinedMetricWarning: F-score is ill-defined and being set to 0.0 due to no true nor predicted samples. Use `zero_division` parameter to control this behavior.\n",
      "  _warn_prf(average, \"true nor predicted\", \"F-score is\", len(true_sum))\n"
     ]
    },
    {
     "name": "stdout",
     "output_type": "stream",
     "text": [
      "[Pipeline] ................ (step 1 of 1) Processing rf, total=   0.2s\n"
     ]
    },
    {
     "name": "stderr",
     "output_type": "stream",
     "text": [
      "/home/guilherme/basepy/lib/python3.8/site-packages/sklearn/metrics/_classification.py:1599: UndefinedMetricWarning: F-score is ill-defined and being set to 0.0 due to no true nor predicted samples. Use `zero_division` parameter to control this behavior.\n",
      "  _warn_prf(average, \"true nor predicted\", \"F-score is\", len(true_sum))\n"
     ]
    },
    {
     "name": "stdout",
     "output_type": "stream",
     "text": [
      "[Pipeline] ................ (step 1 of 1) Processing rf, total=   0.2s\n"
     ]
    },
    {
     "name": "stderr",
     "output_type": "stream",
     "text": [
      "/home/guilherme/basepy/lib/python3.8/site-packages/sklearn/metrics/_classification.py:1599: UndefinedMetricWarning: F-score is ill-defined and being set to 0.0 due to no true nor predicted samples. Use `zero_division` parameter to control this behavior.\n",
      "  _warn_prf(average, \"true nor predicted\", \"F-score is\", len(true_sum))\n",
      "/home/guilherme/basepy/lib/python3.8/site-packages/sklearn/metrics/_classification.py:1599: UndefinedMetricWarning: F-score is ill-defined and being set to 0.0 due to no true nor predicted samples. Use `zero_division` parameter to control this behavior.\n",
      "  _warn_prf(average, \"true nor predicted\", \"F-score is\", len(true_sum))\n"
     ]
    },
    {
     "name": "stdout",
     "output_type": "stream",
     "text": [
      "[Pipeline] ................ (step 1 of 1) Processing rf, total=   0.2s\n"
     ]
    },
    {
     "data": {
      "text/plain": [
       "{'fit_time': array([0.17945361, 0.17633176, 0.18845701, 0.17407465, 0.19102716,\n",
       "        0.19395328, 0.21478271, 0.17047453, 0.25441694, 0.19099569,\n",
       "        0.19555449, 0.1776967 , 0.17917752, 0.20293832, 0.18894267,\n",
       "        0.2255466 , 0.21798849, 0.18146086, 0.18443179, 0.18250823,\n",
       "        0.20416164, 0.22931266, 0.23400521, 0.18289256, 0.16472745,\n",
       "        0.17622089, 0.18463206, 0.17960048, 0.17433548, 0.22183084,\n",
       "        0.21387076, 0.24931026, 0.19510579, 0.19608569, 0.16946769,\n",
       "        0.18370152, 0.19346023, 0.20312858, 0.18446779, 0.18236923,\n",
       "        0.18849754, 0.21173739, 0.19346333, 0.22933435, 0.21424627,\n",
       "        0.19416213, 0.17345905, 0.18703532, 0.19545698, 0.20309329]),\n",
       " 'score_time': array([0.01545882, 0.01741958, 0.01417875, 0.01683331, 0.0172689 ,\n",
       "        0.02184224, 0.02145362, 0.0155642 , 0.02296638, 0.01601982,\n",
       "        0.01832914, 0.01492882, 0.02073359, 0.02216029, 0.01815248,\n",
       "        0.02021861, 0.01555061, 0.02106118, 0.01874757, 0.01994896,\n",
       "        0.01861238, 0.02247643, 0.01789379, 0.01459694, 0.01423621,\n",
       "        0.01619077, 0.01909184, 0.01793051, 0.01671386, 0.01818442,\n",
       "        0.03184986, 0.01897621, 0.01419759, 0.01870823, 0.01519871,\n",
       "        0.0161047 , 0.02359533, 0.01942277, 0.01808834, 0.01844049,\n",
       "        0.02024031, 0.01777864, 0.02132177, 0.01792955, 0.0166285 ,\n",
       "        0.01375985, 0.01224422, 0.01674461, 0.02053785, 0.01764369]),\n",
       " 'test_score': array([0., 0., 0., 0., 0., 0., 0., 0., 0., 0., 0., 0., 0., 0., 0., 0., 0.,\n",
       "        0., 0., 0., 0., 0., 0., 0., 0., 0., 0., 0., 0., 0., 0., 0., 0., 0.,\n",
       "        0., 0., 0., 0., 0., 0., 0., 0., 0., 0., 0., 0., 0., 0., 0., 0.])}"
      ]
     },
     "execution_count": 35,
     "metadata": {},
     "output_type": "execute_result"
    }
   ],
   "source": [
    "dados_sample = dados.sample(50,random_state=37)\n",
    "\n",
    "Y = dados_sample['resultado']\n",
    "X = dados_sample.drop(\"resultado\",axis=1)\n",
    "\n",
    "X = OneHotEncoder().fit_transform(X)\n",
    "\n",
    "loo = LeaveOneOut()\n",
    "rf = RandomForestClassifier()\n",
    "\n",
    "pipe = Pipeline([('rf',RandomForestClassifier())], verbose=1)\n",
    "\n",
    "cross_validate(pipe, X, Y, cv=loo, scoring='f1',verbose=0)\n"
   ]
  },
  {
   "cell_type": "markdown",
   "metadata": {},
   "source": [
    "# c) Mantendo balanço\n",
    "Na base de dados, há muito menos candidaturas eleitas do que não-eleitas. Para evitar que amostras de treino e de teste percam esse balanço original, use K-fold estratificado (no mlr3, basta declarar stratum = variavel na task; no sklearn, use StratifiedKFold)."
   ]
  },
  {
   "cell_type": "code",
   "execution_count": 34,
   "metadata": {},
   "outputs": [
    {
     "data": {
      "text/plain": [
       "{'fit_time': array([5.76402545, 5.01563621, 5.06924748, 4.66613412, 4.96568203]),\n",
       " 'score_time': array([0.10502243, 0.11984277, 0.1157515 , 0.12240767, 0.13272905]),\n",
       " 'test_score': array([0.50314465, 0.60645161, 0.54421769, 0.64900662, 0.63087248])}"
      ]
     },
     "execution_count": 34,
     "metadata": {},
     "output_type": "execute_result"
    }
   ],
   "source": [
    "from sklearn.model_selection import StratifiedKFold\n",
    "\n",
    "Y = dados['resultado']\n",
    "X = dados.drop(\"resultado\",axis=1)\n",
    "\n",
    "X = OneHotEncoder().fit_transform(X)\n",
    "\n",
    "skf = StratifiedKFold()\n",
    "rf = RandomForestClassifier()\n",
    "\n",
    "pipe = Pipeline([('rf',RandomForestClassifier())], verbose=0)\n",
    "\n",
    "cross_validate(pipe, X, Y, cv=skf, scoring='f1',verbose=0)\n"
   ]
  },
  {
   "cell_type": "markdown",
   "metadata": {},
   "source": [
    "## d) Repetindo o processo\n",
    "Finalmente, use repeated k-fold para minimizar a variação decorrente do sorteio no particionamento das amostras (no mlr3, com repeated_cv; no sklearn, com RepeatedKFold ou com RepeatedStratifiedKFold)."
   ]
  },
  {
   "cell_type": "code",
   "execution_count": 33,
   "metadata": {},
   "outputs": [
    {
     "data": {
      "text/plain": [
       "{'fit_time': array([4.98374033, 5.16581297, 4.97278881, 5.24791574, 4.6823926 ]),\n",
       " 'score_time': array([0.10485959, 0.12404394, 0.10993671, 0.11838031, 0.11998272]),\n",
       " 'test_score': array([0.50314465, 0.60645161, 0.56578947, 0.64900662, 0.63087248])}"
      ]
     },
     "execution_count": 33,
     "metadata": {},
     "output_type": "execute_result"
    }
   ],
   "source": [
    "from sklearn.model_selection import StratifiedKFold\n",
    "\n",
    "Y = dados['resultado']\n",
    "X = dados.drop(\"resultado\",axis=1)\n",
    "\n",
    "X = OneHotEncoder().fit_transform(X)\n",
    "\n",
    "skf = StratifiedKFold()\n",
    "#rf = RepeatedKFold()\n",
    "\n",
    "pipe = Pipeline([('rf',RandomForestClassifier())], verbose=0)\n",
    "\n",
    "cross_validate(pipe, X, Y, cv=skf, scoring='f1',verbose=0)\n"
   ]
  },
  {
   "cell_type": "markdown",
   "metadata": {},
   "source": [
    "# Workflow de validação\n",
    "Para este exercício, precisaremos separar a nossa amostra de uma forma mais próxima daquela usada em projetos reais: treino, teste e validação. Para tanto:\n",
    "\n",
    "## a) Holdout\n",
    "Faça um holdout inicial da base, separando 90% dela para treino e teste e 10% para validação."
   ]
  },
  {
   "cell_type": "code",
   "execution_count": 37,
   "metadata": {},
   "outputs": [
    {
     "name": "stdout",
     "output_type": "stream",
     "text": [
      "{'fit_time': array([3.22768044, 3.47697806, 3.18180466]), 'score_time': array([0.13484812, 0.12830591, 0.13294578]), 'test_score': array([0.57013575, 0.57399103, 0.55605381])}\n",
      "{'fit_time': array([3.6034112 , 3.80482197, 3.65607405, 3.61032033]), 'score_time': array([0.11547327, 0.11184168, 0.11048579, 0.11164713]), 'test_score': array([0.54545455, 0.65895954, 0.51190476, 0.5398773 ])}\n",
      "{'fit_time': array([4.41972876, 4.10843325, 4.13134122, 4.2594099 , 3.99319339]), 'score_time': array([0.10962486, 0.10094404, 0.09614682, 0.09647918, 0.09705257]), 'test_score': array([0.52713178, 0.65248227, 0.58914729, 0.54676259, 0.51908397])}\n"
     ]
    }
   ],
   "source": [
    "from sklearn.model_selection import train_test_split\n",
    "\n",
    "Y = dados['resultado']\n",
    "X = dados.drop(\"resultado\",axis=1)\n",
    "\n",
    "X = OneHotEncoder().fit_transform(X)\n",
    "\n",
    "X_train, X_test, y_train, y_test = train_test_split(X, Y, test_size=0.1)\n",
    " \n",
    "\n",
    "\n",
    "skf = StratifiedKFold(n_splits=3)\n",
    "pipe = Pipeline([('rf',RandomForestClassifier())], verbose=0)\n",
    "print(cross_validate(pipe, X_train, y_train, cv=skf, scoring='f1',verbose=0))\n",
    "skf = StratifiedKFold(n_splits=4)\n",
    "pipe = Pipeline([('rf',RandomForestClassifier())], verbose=0)\n",
    "print(cross_validate(pipe, X_train, y_train, cv=skf, scoring='f1',verbose=0))\n",
    "skf = StratifiedKFold(n_splits=5)\n",
    "pipe = Pipeline([('rf',RandomForestClassifier())], verbose=0)\n",
    "cross_validate(pipe, X_train, y_train, cv=skf, scoring='f1',verbose=0)"
   ]
  },
  {
   "cell_type": "markdown",
   "metadata": {},
   "source": [
    "## b) Cross-validation\n",
    "Com os 90% restanted da base, treine e valide um modelo usando alguma estratégia de cross-validation. Ao final, quando encontrar o melhor modelo, treine ele em todos os 90% das observações e o valide na base de validação com 10% de observações."
   ]
  },
  {
   "cell_type": "code",
   "execution_count": 45,
   "metadata": {},
   "outputs": [],
   "source": [
    "from sklearn.metrics import confusion_matrix\n",
    "from sklearn.metrics import precision_recall_curve\n",
    "\n",
    "\n",
    "skf = StratifiedKFold(n_splits=5)\n",
    "\n",
    "pipe = Pipeline([('rf',RandomForestClassifier())], verbose=0)\n",
    "pipe.fit(X_train,y_train)\n",
    "\n",
    "cross_validate(pipe, X_test, y_test, cv=skf, scoring='f1',verbose=0)\n",
    "\n",
    "y_pred = pipe.predict(X_test)\n"
   ]
  },
  {
   "cell_type": "markdown",
   "metadata": {},
   "source": [
    "# Usando mais dados\n",
    "Neste exercício, vamos voltar à base de dados climático de São Bernardo do Campo e, com o que aprendemos nas últimas aulas, vamos tentar melhorar nosso desempenho na tarefa de predizer temperatura máxima diária. Carregue a base com:"
   ]
  },
  {
   "cell_type": "code",
   "execution_count": 46,
   "metadata": {},
   "outputs": [],
   "source": [
    "link = 'https://raw.githubusercontent.com/jacobwright32/Web_Scraper_AI_Core_Project/bb4865ae568e23ab8fadb6ea58cf117df2164ef3/web%20scraping/Cleaned%20Data/Brazil_Sao%20Bernardo%20Do%20Campo_Cleaned.csv'\n",
    "dados = pd.read_csv(link)"
   ]
  },
  {
   "cell_type": "markdown",
   "metadata": {},
   "source": [
    "## a) Novo workflow\n",
    "Monte um workflow para melhorar o desempenho na tarefa de predizer maximum_temprature. Em particular, considere o seguinte:\n",
    "\n",
    "Pré-processar variáveis contínuas (minmax ou estandardização);\n",
    "Reduzir dimensionalidade (PCA ou kernelpca);\n",
    "Considerar combinações não-lineares (criando polinômios ou usando MARS)\n",
    "Usar ensemble, inclusive com stacking\n",
    "Usar uma estratégia de validação que deixe mais dados para treino (K-fold com um  ou )\n",
    "Considerar a estrutura temporal dos dados (é possível criar uma variável lag de maximum_temprature, o transformar o problema em um de série temporal e usar walk-forward validation)"
   ]
  },
  {
   "cell_type": "code",
   "execution_count": null,
   "metadata": {},
   "outputs": [],
   "source": []
  },
  {
   "cell_type": "code",
   "execution_count": null,
   "metadata": {},
   "outputs": [],
   "source": []
  },
  {
   "cell_type": "code",
   "execution_count": null,
   "metadata": {},
   "outputs": [],
   "source": [
    "import numpy as np\n",
    "from sklearn.decomposition import PCA\n",
    "\n",
    "Y = dados['resultado']\n",
    "X = dados.drop(\"resultado\",axis=1)\n",
    "\n",
    "X = OneHotEncoder().fit_transform(X)\n",
    "\n",
    "X_train, X_test, y_train, y_test = train_test_split(X, Y, test_size=0.1)\n",
    " \n",
    "skf = StratifiedKFold(n_splits=3)\n",
    "pipe = Pipeline([('pca',PCA()),('rf',RandomForestClassifier())], verbose=0)\n",
    "print(cross_validate(pipe, X_train, y_train, cv=skf, scoring='f1',verbose=0))"
   ]
  }
 ],
 "metadata": {
  "kernelspec": {
   "display_name": "Python 3.8.10 ('basepy')",
   "language": "python",
   "name": "python3"
  },
  "language_info": {
   "codemirror_mode": {
    "name": "ipython",
    "version": 3
   },
   "file_extension": ".py",
   "mimetype": "text/x-python",
   "name": "python",
   "nbconvert_exporter": "python",
   "pygments_lexer": "ipython3",
   "version": "3.8.10"
  },
  "orig_nbformat": 4,
  "vscode": {
   "interpreter": {
    "hash": "d104225ec42d6f7fc0c61100559a33f2210dafe9fee0fc23dcd46c626d82e02e"
   }
  }
 },
 "nbformat": 4,
 "nbformat_minor": 2
}
