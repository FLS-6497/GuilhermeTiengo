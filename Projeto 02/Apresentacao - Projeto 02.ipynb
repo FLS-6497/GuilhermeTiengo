{
 "cells": [
  {
   "attachments": {},
   "cell_type": "markdown",
   "metadata": {},
   "source": [
    "# Projeto 02\n"
   ]
  },
  {
   "attachments": {},
   "cell_type": "markdown",
   "metadata": {},
   "source": [
    "## Objetivo\n",
    "O objetivo central dessa atividade é treinar um modelo de deep learning que consiga classificar imagens de locais de votação como sendo URBANAS ou RURAIS."
   ]
  },
  {
   "attachments": {},
   "cell_type": "markdown",
   "metadata": {},
   "source": [
    "## Entrega\n",
    "A entrega deverá ser feita na pasta do GitHub de cada um contendo:\n",
    "\n",
    "Um notebook ou script com o código utilizado;\n",
    "\n",
    "Um documento (pode ser um PDF compilado pelo notebook, mas também pode ser um README.md) detalhando a metodologia utilizada:\n",
    "\n",
    "* Arquitetura utilizada\n",
    "* Hiper-parâmetros utilizados\n",
    "* Resumo dos resultados obtidos\n",
    "* Predição para a base de validação com imagens de satélite sem labels"
   ]
  },
  {
   "attachments": {},
   "cell_type": "markdown",
   "metadata": {},
   "source": [
    "### Arquitetura utilizada\n",
    "A arquitetura utilizada foi de redes convolucionais, uma vez que elas podem receber informações de matrizes e são mais adequadas para a classificação de imagens.\n",
    "\n",
    "Para otimizar os resultados com a menor tempo de processamento, optou-se por utilizar uma modelo inicial de 3 camadas, uma camada convulacional, uma camada de vetorização e uma de classificação final.\n",
    "\n",
    "A partir do tempo de processamento e dos resultados, foram adicionadas camadas adicionais ao modelo, bem como foi alterada o volume de informações que o modelo recebe.\n",
    "\n",
    "### Hiper-parâmetros\n",
    "\n",
    "A função de tivação utilizada foi a relu para todas as camadas, com exceção da última camda que foi utilizada a softmax. \n",
    "\n",
    "Para otimização do layer, foram utilizadas diferentes tipos de de combinação em número de camadas, filtros e dimensões (quando aplicável).\n",
    "\n",
    "Por último, foi considerado diferentes tipos de pixelização da imagem.\n",
    "\n",
    "A otimização do modelo foi utilziada foi adda, com função de perda de crossentropy e medida de validação escolhida foi a acurácia.\n",
    "\n",
    "### Resumo dos resultados\n",
    "\n",
    "#### A partir modelo inicial, composto por:\n",
    "\n",
    "* Pré-processamento de 200x200 pixels.\n",
    "* Uma camada convolucional de 32 filtros em 3 dimensões.\n",
    "* Uma camada de vetorização\n",
    "* Uma camada de padronização com 2 layers\n",
    "\n",
    "#### Foram realizados testes diferentes, alterando um ou dois parâmetros po testes, o resultados obtidos estão abaixo:\n",
    "\n",
    "* Modelo inicial (Modelo 0) apresentou acurárcia de 0.82\n",
    "* O modelo não teve ganho de perfomance apenas com a mudança de pixel (350x350) no input de entrada, inclusive, perdeu em acurácia (modelo 1 = modelo 0 com mudança de pixel)\n",
    "* O modelo não teve ganho de perfomance com o aumento de camada convolucional (12 filtros, 3x3) (modelo 2 = modelo 1 com aumento de camada).\n",
    "* Mesmo quando se adiciona uma camada com 10 layers o modelo mantém seu resultado (modelo 3 = Modelo 2 + camada de layer).\n",
    "* Há uma piora significativa da perfomance do modelo quando adicionamos mais uma camada com 10 layes (modelo 4 = Modelo 3 + camada de layer)\n",
    "* Quando utilizamos a arquitetura do modelo três e menos épocas de treinamento, temos a melhor perfomance (modelo 5 = modelo 2 com 5 épocas de treinamento)\n",
    "\n",
    "Com isso, o modelo escolhido para seguir com a análise foi o modelo 5.\n",
    "* Porém, o desbalanceamento da amostra parece afetar o modelo na identificação de áreas rurais, a matriz de confusão demonstra isso.\n",
    "\n",
    "### Comentários adicionais:\n",
    "* É interessante notar que o modelo a escolha de camadas ou redes mais complexas parece deixar o modelo muito especializado nos dados de treinamento, o que prejudica o  resultado final, isso pode ser observado a partir dos resultados das épocas - o aumento de acurácia no treinamento vs. diminuição de acurácia nos dados de teste.\n",
    "* Porém, ao diminuir o número de pixels ou alterar os hiper-parâmetros do modelo faz com o resultado piore muito (não reportado).\n",
    "* Os resultados preditos estão disponívels no excel resultados.xlsx\n",
    "\n"
   ]
  }
 ],
 "metadata": {
  "kernelspec": {
   "display_name": "Python 3",
   "language": "python",
   "name": "python3"
  },
  "language_info": {
   "name": "python",
   "version": "3.8.10 (default, Nov 14 2022, 12:59:47) \n[GCC 9.4.0]"
  },
  "orig_nbformat": 4,
  "vscode": {
   "interpreter": {
    "hash": "e7370f93d1d0cde622a1f8e1c04877d8463912d04d973331ad4851f04de6915a"
   }
  }
 },
 "nbformat": 4,
 "nbformat_minor": 2
}
