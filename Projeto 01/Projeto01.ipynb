{
 "cells": [
  {
   "cell_type": "markdown",
   "metadata": {},
   "source": [
    "# Projeto 1\n",
    "Nosso primeiro projeto avaliativo, consistindo em 15% da nota final no curso, será uma aplicação de aprendizado supervisionado: classificar discursos presidenciais feitos para audiências internacionais. Ao todo, são 350 discursos proferidos por Lula, Dilma e Temer que poderão ser utilizados para teste e treino de modelos. Neste trabalho, vocês poderão aplicar o pré-processamento que julgarem mais adequado."
   ]
  },
  {
   "cell_type": "markdown",
   "metadata": {},
   "source": [
    "## Descrição dos procedimentos:\n",
    "\n",
    "Para essa atividade, serão realizados:\n",
    "* Dois pré-processamentos de dados com e sem stem: essa abordagem parece mais adequada já que não conhecemos o resultado de processo desse stem.\n",
    "* Aplicação de um algoritmo de NaiveBayes.\n",
    "* Aplicação de um algoritmo de Floresta Aleatória.\n",
    "* Depois do treinamento dos algoritmos, vamos monitorar o recall e psteriormenete serão selecionados 2 algortimos.\n",
    "* Para finalizar, serão aplicados os algoritmos a base de teste e calculado o indice de Krippendorff.\n",
    "* Como a implementação do índice de Krinppendorff não parece confiável, será aplicado um índice de 'concordância' entre os dois algoritmos selecionados, uma possibilidade metodológica seria utilizar uma codificador humano ou um novo algoritmo como terceiro juiz.\n"
   ]
  },
  {
   "cell_type": "code",
   "execution_count": 1,
   "metadata": {},
   "outputs": [],
   "source": [
    "import pandas as pd\n",
    "\n",
    "from sklearn.feature_extraction.text import TfidfVectorizer\n",
    "from sklearn.naive_bayes import MultinomialNB\n",
    "from sklearn.model_selection import train_test_split\n",
    "from sklearn.ensemble import RandomForestClassifier\n",
    "from nltk.tokenize import sent_tokenize, word_tokenize\n",
    "from nltk.stem import RSLPStemmer\n",
    "from sklearn import metrics\n",
    "import matplotlib.pyplot as plt\n",
    "import re\n",
    "import unidecode\n",
    "from nltk.corpus import stopwords\n",
    "import numpy as np\n",
    "import krippendorff\n"
   ]
  },
  {
   "cell_type": "code",
   "execution_count": 2,
   "metadata": {},
   "outputs": [],
   "source": [
    "link = 'https://github.com/FLS-6497/datasets/blob/main/projeto1/discursos_pres_internacionais.csv?raw=true'\n",
    "discursos = pd.read_csv(link, sep=';')\n",
    "\n",
    "link = 'https://github.com/FLS-6497/datasets/blob/main/projeto1/discursos_pres_internacionais_validacao.csv?raw=true'\n",
    "validacao = pd.read_csv(link, sep=';')"
   ]
  },
  {
   "cell_type": "markdown",
   "metadata": {},
   "source": [
    "## Explorar dados\n"
   ]
  },
  {
   "cell_type": "code",
   "execution_count": 3,
   "metadata": {},
   "outputs": [
    {
     "data": {
      "text/html": [
       "<div>\n",
       "<style scoped>\n",
       "    .dataframe tbody tr th:only-of-type {\n",
       "        vertical-align: middle;\n",
       "    }\n",
       "\n",
       "    .dataframe tbody tr th {\n",
       "        vertical-align: top;\n",
       "    }\n",
       "\n",
       "    .dataframe thead th {\n",
       "        text-align: right;\n",
       "    }\n",
       "</style>\n",
       "<table border=\"1\" class=\"dataframe\">\n",
       "  <thead>\n",
       "    <tr style=\"text-align: right;\">\n",
       "      <th></th>\n",
       "      <th>data</th>\n",
       "      <th>presidente</th>\n",
       "      <th>discurso</th>\n",
       "    </tr>\n",
       "  </thead>\n",
       "  <tbody>\n",
       "    <tr>\n",
       "      <th>0</th>\n",
       "      <td>2018-11-30</td>\n",
       "      <td>Temer</td>\n",
       "      <td>\\nHá uma década, desencadeava-se crise econômi...</td>\n",
       "    </tr>\n",
       "    <tr>\n",
       "      <th>1</th>\n",
       "      <td>2018-11-30</td>\n",
       "      <td>Temer</td>\n",
       "      <td>\\nAntes de mais nada, cumprimento o Presidente...</td>\n",
       "    </tr>\n",
       "    <tr>\n",
       "      <th>2</th>\n",
       "      <td>2018-11-30</td>\n",
       "      <td>Temer</td>\n",
       "      <td>\\nDiscurso do presidente Michel Temer\\nSenhor ...</td>\n",
       "    </tr>\n",
       "    <tr>\n",
       "      <th>3</th>\n",
       "      <td>2018-09-25</td>\n",
       "      <td>Temer</td>\n",
       "      <td>\\nSenhora Presidente desta Assembleia Geral, M...</td>\n",
       "    </tr>\n",
       "    <tr>\n",
       "      <th>4</th>\n",
       "      <td>2018-06-18</td>\n",
       "      <td>Temer</td>\n",
       "      <td>\\nPrezados amigos,\\nPresidentes, vice-presiden...</td>\n",
       "    </tr>\n",
       "  </tbody>\n",
       "</table>\n",
       "</div>"
      ],
      "text/plain": [
       "         data presidente                                           discurso\n",
       "0  2018-11-30      Temer  \\nHá uma década, desencadeava-se crise econômi...\n",
       "1  2018-11-30      Temer  \\nAntes de mais nada, cumprimento o Presidente...\n",
       "2  2018-11-30      Temer  \\nDiscurso do presidente Michel Temer\\nSenhor ...\n",
       "3  2018-09-25      Temer  \\nSenhora Presidente desta Assembleia Geral, M...\n",
       "4  2018-06-18      Temer  \\nPrezados amigos,\\nPresidentes, vice-presiden..."
      ]
     },
     "execution_count": 3,
     "metadata": {},
     "output_type": "execute_result"
    }
   ],
   "source": [
    "discursos.head()"
   ]
  },
  {
   "cell_type": "code",
   "execution_count": 4,
   "metadata": {},
   "outputs": [
    {
     "data": {
      "text/plain": [
       "array(['Temer', 'Dilma', 'Lula'], dtype=object)"
      ]
     },
     "execution_count": 4,
     "metadata": {},
     "output_type": "execute_result"
    }
   ],
   "source": [
    "discursos[\"presidente\"].unique()"
   ]
  },
  {
   "cell_type": "code",
   "execution_count": 5,
   "metadata": {},
   "outputs": [
    {
     "data": {
      "text/plain": [
       "Lula     145\n",
       "Dilma    131\n",
       "Temer     74\n",
       "Name: presidente, dtype: int64"
      ]
     },
     "execution_count": 5,
     "metadata": {},
     "output_type": "execute_result"
    }
   ],
   "source": [
    "discursos['presidente'].value_counts()"
   ]
  },
  {
   "cell_type": "code",
   "execution_count": 6,
   "metadata": {},
   "outputs": [
    {
     "name": "stdout",
     "output_type": "stream",
     "text": [
      "['de', 'a', 'o', 'que', 'e', 'é', 'do', 'da', 'em', 'um', 'para', 'com', 'não', 'uma', 'os', 'no', 'se', 'na', 'por', 'mais', 'as', 'dos', 'como', 'mas', 'ao', 'ele', 'das', 'à', 'seu', 'sua', 'ou', 'quando', 'muito', 'nos', 'já', 'eu', 'também', 'só', 'pelo', 'pela', 'até', 'isso', 'ela', 'entre', 'depois', 'sem', 'mesmo', 'aos', 'seus', 'quem', 'nas', 'me', 'esse', 'eles', 'você', 'essa', 'num', 'nem', 'suas', 'meu', 'às', 'minha', 'numa', 'pelos', 'elas', 'qual', 'nós', 'lhe', 'deles', 'essas', 'esses', 'pelas', 'este', 'dele', 'tu', 'te', 'vocês', 'vos', 'lhes', 'meus', 'minhas', 'teu', 'tua', 'teus', 'tuas', 'nosso', 'nossa', 'nossos', 'nossas', 'dela', 'delas', 'esta', 'estes', 'estas', 'aquele', 'aquela', 'aqueles', 'aquelas', 'isto', 'aquilo', 'estou', 'está', 'estamos', 'estão', 'estive', 'esteve', 'estivemos', 'estiveram', 'estava', 'estávamos', 'estavam', 'estivera', 'estivéramos', 'esteja', 'estejamos', 'estejam', 'estivesse', 'estivéssemos', 'estivessem', 'estiver', 'estivermos', 'estiverem', 'hei', 'há', 'havemos', 'hão', 'houve', 'houvemos', 'houveram', 'houvera', 'houvéramos', 'haja', 'hajamos', 'hajam', 'houvesse', 'houvéssemos', 'houvessem', 'houver', 'houvermos', 'houverem', 'houverei', 'houverá', 'houveremos', 'houverão', 'houveria', 'houveríamos', 'houveriam', 'sou', 'somos', 'são', 'era', 'éramos', 'eram', 'fui', 'foi', 'fomos', 'foram', 'fora', 'fôramos', 'seja', 'sejamos', 'sejam', 'fosse', 'fôssemos', 'fossem', 'for', 'formos', 'forem', 'serei', 'será', 'seremos', 'serão', 'seria', 'seríamos', 'seriam', 'tenho', 'tem', 'temos', 'tém', 'tinha', 'tínhamos', 'tinham', 'tive', 'teve', 'tivemos', 'tiveram', 'tivera', 'tivéramos', 'tenha', 'tenhamos', 'tenham', 'tivesse', 'tivéssemos', 'tivessem', 'tiver', 'tivermos', 'tiverem', 'terei', 'terá', 'teremos', 'terão', 'teria', 'teríamos', 'teriam']\n"
     ]
    }
   ],
   "source": [
    "stopwords_pt =  stopwords.words('portuguese')\n",
    "print(stopwords_pt)"
   ]
  },
  {
   "cell_type": "markdown",
   "metadata": {},
   "source": [
    "## Processamento\n",
    "\n",
    "Em ambos os processamentos são:\n",
    "* Retiradas palavras com menos de 4 caracteres,\n",
    "* Removidos os acentos,\n",
    "* Retiradas palavras na lista de stopwords,\n",
    "* Palavras são transformadas em minúsculo.\n",
    "\n",
    "No processamento 1, o discurso sofre um processo de stemmização com um algoritmo criado para o português.\n",
    "\n"
   ]
  },
  {
   "cell_type": "code",
   "execution_count": 7,
   "metadata": {},
   "outputs": [],
   "source": [
    "def Processamento1(texto):\n",
    "    tokens = word_tokenize(texto,language=\"portuguese\")\n",
    "    tokens = [t for t in tokens if len(t) > 4]\n",
    "    tokens = [t for t in tokens if t not in stopwords_pt]\n",
    "    \n",
    "    tokens = [t.lower() for t in tokens]\n",
    "    tokens = [unidecode.unidecode(t) for t in tokens]\n",
    "    stem = RSLPStemmer()\n",
    "    token_stem = [stem.stem(t) for t in tokens]\n",
    "    return \" \".join(token_stem)\n",
    "\n",
    "def Processamento2(texto):\n",
    "    tokens = word_tokenize(texto,language=\"portuguese\")\n",
    "    tokens = [t for t in tokens if len(t) > 4]\n",
    "    tokens = [t for t in tokens if t not in stopwords_pt]\n",
    "    tokens = [t.lower() for t in tokens]\n",
    "    tokens = [unidecode.unidecode(t) for t in tokens]\n",
    "    return \" \".join(tokens)\n"
   ]
  },
  {
   "cell_type": "code",
   "execution_count": 8,
   "metadata": {},
   "outputs": [],
   "source": [
    "p_discursos1 = [Processamento1(discurso) for discurso in discursos['discurso']]\n",
    "p_discursos2 = [Processamento2(discurso) for discurso in discursos['discurso']]"
   ]
  },
  {
   "cell_type": "code",
   "execution_count": 9,
   "metadata": {},
   "outputs": [],
   "source": [
    "discursos['discurso1'] = p_discursos1\n",
    "discursos['discurso2'] = p_discursos2"
   ]
  },
  {
   "cell_type": "code",
   "execution_count": 10,
   "metadata": {},
   "outputs": [
    {
     "data": {
      "text/html": [
       "<div>\n",
       "<style scoped>\n",
       "    .dataframe tbody tr th:only-of-type {\n",
       "        vertical-align: middle;\n",
       "    }\n",
       "\n",
       "    .dataframe tbody tr th {\n",
       "        vertical-align: top;\n",
       "    }\n",
       "\n",
       "    .dataframe thead th {\n",
       "        text-align: right;\n",
       "    }\n",
       "</style>\n",
       "<table border=\"1\" class=\"dataframe\">\n",
       "  <thead>\n",
       "    <tr style=\"text-align: right;\">\n",
       "      <th></th>\n",
       "      <th>data</th>\n",
       "      <th>presidente</th>\n",
       "      <th>discurso</th>\n",
       "      <th>discurso1</th>\n",
       "      <th>discurso2</th>\n",
       "    </tr>\n",
       "  </thead>\n",
       "  <tbody>\n",
       "    <tr>\n",
       "      <th>0</th>\n",
       "      <td>2018-11-30</td>\n",
       "      <td>Temer</td>\n",
       "      <td>\\nHá uma década, desencadeava-se crise econômi...</td>\n",
       "      <td>dec desencadeava-s cris econom efeit sistem ne...</td>\n",
       "      <td>decada desencadeava-se crise economica efeitos...</td>\n",
       "    </tr>\n",
       "    <tr>\n",
       "      <th>1</th>\n",
       "      <td>2018-11-30</td>\n",
       "      <td>Temer</td>\n",
       "      <td>\\nAntes de mais nada, cumprimento o Presidente...</td>\n",
       "      <td>ant cumpr presid macr govern argentin impeca o...</td>\n",
       "      <td>antes cumprimento presidente macri governo arg...</td>\n",
       "    </tr>\n",
       "    <tr>\n",
       "      <th>2</th>\n",
       "      <td>2018-11-30</td>\n",
       "      <td>Temer</td>\n",
       "      <td>\\nDiscurso do presidente Michel Temer\\nSenhor ...</td>\n",
       "      <td>discurs presid michel tem senh presid senh sen...</td>\n",
       "      <td>discurso presidente michel temer senhor presid...</td>\n",
       "    </tr>\n",
       "    <tr>\n",
       "      <th>3</th>\n",
       "      <td>2018-09-25</td>\n",
       "      <td>Temer</td>\n",
       "      <td>\\nSenhora Presidente desta Assembleia Geral, M...</td>\n",
       "      <td>senh presid dest assemble geral mar fernand es...</td>\n",
       "      <td>senhora presidente desta assembleia geral mari...</td>\n",
       "    </tr>\n",
       "    <tr>\n",
       "      <th>4</th>\n",
       "      <td>2018-06-18</td>\n",
       "      <td>Temer</td>\n",
       "      <td>\\nPrezados amigos,\\nPresidentes, vice-presiden...</td>\n",
       "      <td>prez amig presid vice-presid horaci cart tab v...</td>\n",
       "      <td>prezados amigos presidentes vice-presidentes h...</td>\n",
       "    </tr>\n",
       "  </tbody>\n",
       "</table>\n",
       "</div>"
      ],
      "text/plain": [
       "         data presidente                                           discurso  \\\n",
       "0  2018-11-30      Temer  \\nHá uma década, desencadeava-se crise econômi...   \n",
       "1  2018-11-30      Temer  \\nAntes de mais nada, cumprimento o Presidente...   \n",
       "2  2018-11-30      Temer  \\nDiscurso do presidente Michel Temer\\nSenhor ...   \n",
       "3  2018-09-25      Temer  \\nSenhora Presidente desta Assembleia Geral, M...   \n",
       "4  2018-06-18      Temer  \\nPrezados amigos,\\nPresidentes, vice-presiden...   \n",
       "\n",
       "                                           discurso1  \\\n",
       "0  dec desencadeava-s cris econom efeit sistem ne...   \n",
       "1  ant cumpr presid macr govern argentin impeca o...   \n",
       "2  discurs presid michel tem senh presid senh sen...   \n",
       "3  senh presid dest assemble geral mar fernand es...   \n",
       "4  prez amig presid vice-presid horaci cart tab v...   \n",
       "\n",
       "                                           discurso2  \n",
       "0  decada desencadeava-se crise economica efeitos...  \n",
       "1  antes cumprimento presidente macri governo arg...  \n",
       "2  discurso presidente michel temer senhor presid...  \n",
       "3  senhora presidente desta assembleia geral mari...  \n",
       "4  prezados amigos presidentes vice-presidentes h...  "
      ]
     },
     "execution_count": 10,
     "metadata": {},
     "output_type": "execute_result"
    }
   ],
   "source": [
    "discursos.head()"
   ]
  },
  {
   "cell_type": "markdown",
   "metadata": {},
   "source": [
    "## Modelos\n"
   ]
  },
  {
   "cell_type": "code",
   "execution_count": 11,
   "metadata": {},
   "outputs": [],
   "source": [
    "def Contagemtdf(base,coluna_X, coluna_Y):\n",
    "    Base_discursos = base\n",
    "    X_train, X_test, Y_train, Y_test = train_test_split(Base_discursos[coluna_X], Base_discursos[coluna_Y], test_size=0.7)\n",
    "    tfid_1 = TfidfVectorizer(analyzer='word',min_df=0.1)\n",
    "    X_train_corpus = tfid_1.fit_transform(X_train) \n",
    "    X_test_corpus = tfid_1.transform(X_test)    \n",
    "    return X_train_corpus, X_test_corpus, Y_train, Y_test, tfid_1\n",
    "\n",
    "def ModeloNB(X_train_corpus, X_test_corpus, Y_train, Y_test): \n",
    "\n",
    "    nb_classifier = MultinomialNB()   \n",
    "    nb_classifier.fit(X_train_corpus, Y_train)    \n",
    "    pred = nb_classifier.predict(X_test_corpus)\n",
    "    score = metrics.precision_score(Y_test,pred,average='micro')\n",
    "    cm = metrics.confusion_matrix(Y_test,pred,labels=Y_test.unique())\n",
    "    \n",
    "    return score,cm, Y_test, pred, nb_classifier\n",
    "\n",
    "def ModeloRF(X_train_corpus, X_test_corpus, Y_train, Y_test):\n",
    "    rf_classifier = RandomForestClassifier()   \n",
    "    rf_classifier.fit(X_train_corpus, Y_train)    \n",
    "    pred = rf_classifier.predict(X_test_corpus)\n",
    "    score = metrics.precision_score(Y_test,pred,average='micro')\n",
    "    cm = metrics.confusion_matrix(Y_test,pred,labels=Y_test.unique())\n",
    "    \n",
    "    return score,cm, Y_test, pred, nb_classifier"
   ]
  },
  {
   "cell_type": "code",
   "execution_count": 12,
   "metadata": {},
   "outputs": [],
   "source": [
    "X_train_corpus, X_test_corpus, Y_train, Y_test, tfid1 = Contagemtdf(discursos,\"discurso2\",\"presidente\")"
   ]
  },
  {
   "cell_type": "code",
   "execution_count": 13,
   "metadata": {},
   "outputs": [],
   "source": [
    "score,cm, Y_test, pred, nb_classifier = ModeloNB(X_train_corpus, X_test_corpus, Y_train, Y_test)"
   ]
  },
  {
   "cell_type": "code",
   "execution_count": 14,
   "metadata": {},
   "outputs": [],
   "source": [
    "score,cm, Y_test, pred, nb_classifier = ModeloRF(X_train_corpus, X_test_corpus, Y_train, Y_test)"
   ]
  },
  {
   "cell_type": "markdown",
   "metadata": {},
   "source": [
    "## Escolha do modelo\n"
   ]
  },
  {
   "cell_type": "code",
   "execution_count": 15,
   "metadata": {},
   "outputs": [],
   "source": [
    "#Escolha de modelos e processamento\n",
    "\n",
    "score_pre1_NB = []\n",
    "score_pre2_NB = []\n",
    "score_pre1_RF = []\n",
    "score_pre2_RF = []\n",
    "\n",
    "for n in range(1,101):\n",
    "    X_train_corpus, X_test_corpus, Y_train, Y_test,tfid1 = Contagemtdf(discursos,\"discurso1\",\"presidente\")\n",
    "    \n",
    "    score,cm, Y_test, pred, nb_classifier = ModeloNB(X_train_corpus, X_test_corpus, Y_train, Y_test)\n",
    "    score_pre1_NB.append(score)\n",
    "\n",
    "    score,cm, Y_test, pred, nb_classifier = ModeloRF(X_train_corpus, X_test_corpus, Y_train, Y_test)\n",
    "    score_pre1_RF.append(score)\n",
    "\n",
    "    X_train_corpus, X_test_corpus, Y_train, Y_test,tfid1 = Contagemtdf(discursos,\"discurso2\",\"presidente\")\n",
    "    \n",
    "    score,cm, Y_test, pred, nb_classifier = ModeloNB(X_train_corpus, X_test_corpus, Y_train, Y_test)\n",
    "    score_pre2_NB.append(score)\n",
    "\n",
    "    score,cm, Y_test, pred, nb_classifier = ModeloRF(X_train_corpus, X_test_corpus, Y_train, Y_test)\n",
    "    score_pre2_RF.append(score)\n",
    "\n",
    "    \n"
   ]
  },
  {
   "cell_type": "code",
   "execution_count": 16,
   "metadata": {},
   "outputs": [],
   "source": [
    "resultados = pd.DataFrame([score_pre1_NB,score_pre2_NB,score_pre1_RF,score_pre2_RF]).T\n",
    "resultados.rename({0:'NB_Pre1',1:'NB_Pre2',2:'RF_Pre1',3:'RF_Pre2'},axis=1, inplace= True)"
   ]
  },
  {
   "cell_type": "code",
   "execution_count": 17,
   "metadata": {},
   "outputs": [
    {
     "data": {
      "image/png": "[encoded data removed]",
      "text/plain": [
       "<Figure size 1600x800 with 4 Axes>"
      ]
     },
     "metadata": {},
     "output_type": "display_data"
    }
   ],
   "source": [
    "import seaborn as sns\n",
    "import matplotlib.pyplot as plt\n",
    "sns.set_style(\"darkgrid\")\n",
    "fig, ax = plt.subplots(1,4,sharey=True,figsize=(16,8))\n",
    "fig.suptitle(\"Recall dos modelos\")\n",
    "for i in range(0,4):\n",
    "    temp = resultados.iloc[:,i]\n",
    "    nome = resultados.columns[i]\n",
    "    sns.boxplot(ax=ax[i],y=temp)\n",
    "    ax[i].set_title(nome)\n",
    "    ax[i].set(ylabel=\"Recall\")\n",
    "\n"
   ]
  },
  {
   "cell_type": "markdown",
   "metadata": {},
   "source": [
    "### Comentário\n",
    "\n",
    "Entre os processamentos, os modelos que apresentam uma melhor perfomance são os modelos que não utilizam o processo de stemmização, mesmo que o modelo de floresta aleatória (3) apresente um resultado um pouco superior ao Naive Bayes (2), há ainda a oportunidade de se otimizar o modelo de Naive Bayes através do alpha (Otimização de Laplace)"
   ]
  },
  {
   "cell_type": "code",
   "execution_count": 18,
   "metadata": {},
   "outputs": [],
   "source": [
    "def ModeloNB_a(X_train_corpus, X_test_corpus, Y_train, Y_test, alpha): \n",
    "\n",
    "    nb_classifier = MultinomialNB(alpha=alpha)   \n",
    "    nb_classifier.fit(X_train_corpus, Y_train)    \n",
    "    pred = nb_classifier.predict(X_test_corpus)\n",
    "    score = metrics.precision_score(Y_test,pred,average='micro')\n",
    "    cm = metrics.confusion_matrix(Y_test,pred,labels=Y_test.unique())\n",
    "    \n",
    "    return score,cm, Y_test, pred, nb_classifier"
   ]
  },
  {
   "cell_type": "code",
   "execution_count": 19,
   "metadata": {},
   "outputs": [],
   "source": [
    "X_train_corpus, X_test_corpus, Y_train, Y_test, tfid1 = Contagemtdf(discursos,\"discurso2\",\"presidente\")\n",
    "recall_lista = []  \n",
    "alphas = np.arange(0.1,1.1,0.1)  \n",
    "for x in alphas:\n",
    "    score,cm, Y_test, pred, nb_classifier = ModeloNB_a(X_train_corpus, X_test_corpus, Y_train, Y_test, x)\n",
    "    recall_lista.append(score)\n",
    "    "
   ]
  },
  {
   "cell_type": "code",
   "execution_count": 20,
   "metadata": {},
   "outputs": [
    {
     "name": "stdout",
     "output_type": "stream",
     "text": [
      "[0.8693877551020408, 0.8653061224489796, 0.8693877551020408, 0.8530612244897959, 0.8367346938775511, 0.8244897959183674, 0.8122448979591836, 0.8, 0.7877551020408163, 0.7714285714285715]\n"
     ]
    },
    {
     "data": {
      "image/png": "[encoded data removed]",
      "text/plain": [
       "<Figure size 640x480 with 1 Axes>"
      ]
     },
     "metadata": {},
     "output_type": "display_data"
    }
   ],
   "source": [
    "g = sns.barplot(y=recall_lista,x=np.round(alphas,1),label=recall_lista)\n",
    "g.set(title=\"Recall por alpha\")\n",
    "print(recall_lista)"
   ]
  },
  {
   "cell_type": "markdown",
   "metadata": {},
   "source": [
    "### Comentário\n",
    "Aparentemente o melhor resultado seria com alpha 0.1.\n",
    "\n",
    "Com isso, podemos rodar os modelos escolhidos para as amostras e calcular o alpha de Krippendorff"
   ]
  },
  {
   "cell_type": "code",
   "execution_count": 21,
   "metadata": {},
   "outputs": [],
   "source": [
    "X_train_corpus, X_test_corpus, Y_train, Y_test, tfid1 = Contagemtdf(discursos,\"discurso2\",\"presidente\")\n",
    "score_nb, cm_nb, Y_test_nb, pred_nb, nb_classifier = ModeloNB_a(X_train_corpus, X_test_corpus, Y_train, Y_test, 0.1)\n",
    "score_rf, cm_rf, Y_test_rf, pred_rf, rf_classifier = ModeloRF(X_train_corpus, X_test_corpus, Y_train, Y_test)\n"
   ]
  },
  {
   "cell_type": "code",
   "execution_count": 22,
   "metadata": {},
   "outputs": [
    {
     "name": "stdout",
     "output_type": "stream",
     "text": [
      "Checagem de dataframe Y:  True\n",
      "Recall Score:  0.8408163265306122  (nb)  0.9387755102040817  (rf) \n"
     ]
    }
   ],
   "source": [
    "print(\"Checagem de dataframe Y: \",  Y_test_nb.equals(Y_test_rf))\n",
    "print(\"Recall Score: \", score_nb, \" (nb) \", score_rf, \" (rf) \")"
   ]
  },
  {
   "cell_type": "code",
   "execution_count": 23,
   "metadata": {},
   "outputs": [],
   "source": [
    "#temp_df = pd.DataFrame([pred_nb,pred_rf]).T\n",
    "#temp_df = temp_df.replace(\"Dilma\",0)\n",
    "#temp_df = temp_df.replace(\"Lula\",1)\n",
    "#temp_df = temp_df.replace(\"Temer\",2)\n",
    "#temp_df_array = temp_df.to_numpy()\n",
    "#krippendorff.alpha(value_counts=np.asmatrix(temp_df_array))"
   ]
  },
  {
   "cell_type": "code",
   "execution_count": 24,
   "metadata": {},
   "outputs": [
    {
     "data": {
      "text/plain": [
       "0.8571428571428571"
      ]
     },
     "execution_count": 24,
     "metadata": {},
     "output_type": "execute_result"
    }
   ],
   "source": [
    "temp_df = pd.DataFrame([pred_nb,pred_rf]).T\n",
    "temp_df.rename({0:\"NB\",1:\"RF\"},axis=1,inplace=True)\n",
    "temp_df['Concordam'] = temp_df['NB'] == temp_df['RF']\n",
    "sum(temp_df['Concordam'])/245"
   ]
  },
  {
   "cell_type": "markdown",
   "metadata": {},
   "source": [
    "### Comentário \n",
    "\n",
    "Não foi possível implentar o krippendorff, mas o resultado de 'concordância' ficou em torno 80-89%. \n",
    "Para implementar o algortimo, podemos utilizar um terceio modelo que funcionaria como critério de 'desempate', ou ainda adicionar codificação humana. \n",
    "\n",
    "Neste exercício, usaremos a classificação de RandomForest como 'desempate'\n"
   ]
  },
  {
   "cell_type": "code",
   "execution_count": 25,
   "metadata": {},
   "outputs": [],
   "source": [
    "v_discursos2 = [Processamento2(discurso) for discurso in validacao['discurso']]\n",
    "validacao['v_discurso2'] = v_discursos2\n",
    "v_matrix = tfid1.transform(validacao['v_discurso2'])"
   ]
  },
  {
   "cell_type": "code",
   "execution_count": 26,
   "metadata": {},
   "outputs": [
    {
     "data": {
      "text/plain": [
       "1.0"
      ]
     },
     "execution_count": 26,
     "metadata": {},
     "output_type": "execute_result"
    }
   ],
   "source": [
    "pred_nb_v = nb_classifier.predict(v_matrix)\n",
    "pred_rf_v = rf_classifier.predict(v_matrix)\n",
    "pred_valida = pd.DataFrame([pred_nb_v,pred_rf_v]).T\n",
    "pred_valida.rename({0:\"NB\",1:\"RF\"},axis=1,inplace=True)\n",
    "pred_valida['Concordam'] = pred_valida['NB'] == pred_valida['RF']\n",
    "pred_valida = pd.concat([validacao,pred_valida],axis=1)\n",
    "sum(pred_valida['Concordam'])/25"
   ]
  },
  {
   "cell_type": "code",
   "execution_count": 27,
   "metadata": {},
   "outputs": [
    {
     "data": {
      "text/html": [
       "<div>\n",
       "<style scoped>\n",
       "    .dataframe tbody tr th:only-of-type {\n",
       "        vertical-align: middle;\n",
       "    }\n",
       "\n",
       "    .dataframe tbody tr th {\n",
       "        vertical-align: top;\n",
       "    }\n",
       "\n",
       "    .dataframe thead th {\n",
       "        text-align: right;\n",
       "    }\n",
       "</style>\n",
       "<table border=\"1\" class=\"dataframe\">\n",
       "  <thead>\n",
       "    <tr style=\"text-align: right;\">\n",
       "      <th></th>\n",
       "      <th>discurso</th>\n",
       "      <th>id</th>\n",
       "      <th>v_discurso2</th>\n",
       "      <th>NB</th>\n",
       "      <th>RF</th>\n",
       "      <th>Concordam</th>\n",
       "    </tr>\n",
       "  </thead>\n",
       "  <tbody>\n",
       "    <tr>\n",
       "      <th>0</th>\n",
       "      <td>\\nExcelentíssimo senhor Shinzo Abe, primeiro-m...</td>\n",
       "      <td>137</td>\n",
       "      <td>excelentissimo senhor shinzo primeiro-ministro...</td>\n",
       "      <td>Dilma</td>\n",
       "      <td>Dilma</td>\n",
       "      <td>True</td>\n",
       "    </tr>\n",
       "    <tr>\n",
       "      <th>1</th>\n",
       "      <td>\\nFoto: Roberto Stuckert Filho/PR \\n \\nSenhor ...</td>\n",
       "      <td>90</td>\n",
       "      <td>roberto stuckert filho/pr senhor laurent fabiu...</td>\n",
       "      <td>Dilma</td>\n",
       "      <td>Dilma</td>\n",
       "      <td>True</td>\n",
       "    </tr>\n",
       "    <tr>\n",
       "      <th>2</th>\n",
       "      <td>\\nExcelentíssimo senhor Paul Biya, presidente ...</td>\n",
       "      <td>229</td>\n",
       "      <td>excelentissimo senhor presidente cameroun senh...</td>\n",
       "      <td>Dilma</td>\n",
       "      <td>Dilma</td>\n",
       "      <td>True</td>\n",
       "    </tr>\n",
       "    <tr>\n",
       "      <th>3</th>\n",
       "      <td>\\nEu quero cumprimentar, em primeiro lugar, a ...</td>\n",
       "      <td>7</td>\n",
       "      <td>quero cumprimentar primeiro lugar senhora mari...</td>\n",
       "      <td>Temer</td>\n",
       "      <td>Temer</td>\n",
       "      <td>True</td>\n",
       "    </tr>\n",
       "    <tr>\n",
       "      <th>4</th>\n",
       "      <td>\\nQuero dirigir um cumprimento especial à Zole...</td>\n",
       "      <td>91</td>\n",
       "      <td>quero dirigir cumprimento especial zoleka mand...</td>\n",
       "      <td>Dilma</td>\n",
       "      <td>Dilma</td>\n",
       "      <td>True</td>\n",
       "    </tr>\n",
       "  </tbody>\n",
       "</table>\n",
       "</div>"
      ],
      "text/plain": [
       "                                            discurso   id  \\\n",
       "0  \\nExcelentíssimo senhor Shinzo Abe, primeiro-m...  137   \n",
       "1  \\nFoto: Roberto Stuckert Filho/PR \\n \\nSenhor ...   90   \n",
       "2  \\nExcelentíssimo senhor Paul Biya, presidente ...  229   \n",
       "3  \\nEu quero cumprimentar, em primeiro lugar, a ...    7   \n",
       "4  \\nQuero dirigir um cumprimento especial à Zole...   91   \n",
       "\n",
       "                                         v_discurso2     NB     RF  Concordam  \n",
       "0  excelentissimo senhor shinzo primeiro-ministro...  Dilma  Dilma       True  \n",
       "1  roberto stuckert filho/pr senhor laurent fabiu...  Dilma  Dilma       True  \n",
       "2  excelentissimo senhor presidente cameroun senh...  Dilma  Dilma       True  \n",
       "3  quero cumprimentar primeiro lugar senhora mari...  Temer  Temer       True  \n",
       "4  quero dirigir cumprimento especial zoleka mand...  Dilma  Dilma       True  "
      ]
     },
     "execution_count": 27,
     "metadata": {},
     "output_type": "execute_result"
    }
   ],
   "source": [
    "pred_valida.head()"
   ]
  },
  {
   "cell_type": "code",
   "execution_count": 28,
   "metadata": {},
   "outputs": [],
   "source": [
    "pred_valida.to_excel(\"Validação.xlsx\")"
   ]
  }
 ],
 "metadata": {
  "kernelspec": {
   "display_name": "Python 3.8.10 ('basepy')",
   "language": "python",
   "name": "python3"
  },
  "language_info": {
   "codemirror_mode": {
    "name": "ipython",
    "version": 3
   },
   "file_extension": ".py",
   "mimetype": "text/x-python",
   "name": "python",
   "nbconvert_exporter": "python",
   "pygments_lexer": "ipython3",
   "version": "3.8.10"
  },
  "orig_nbformat": 4,
  "vscode": {
   "interpreter": {
    "hash": "2eb00c3b99515e73a2f87fbbd4229836e43f7521b301a1b867788ab771a420b9"
   }
  }
 },
 "nbformat": 4,
 "nbformat_minor": 2
}
